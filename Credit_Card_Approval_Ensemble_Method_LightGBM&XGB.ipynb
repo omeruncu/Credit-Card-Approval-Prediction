{
  "metadata": {
    "kernelspec": {
      "language": "python",
      "display_name": "Python 3",
      "name": "python3"
    },
    "language_info": {
      "name": "python",
      "version": "3.10.13",
      "mimetype": "text/x-python",
      "codemirror_mode": {
        "name": "ipython",
        "version": 3
      },
      "pygments_lexer": "ipython3",
      "nbconvert_exporter": "python",
      "file_extension": ".py"
    },
    "kaggle": {
      "accelerator": "none",
      "dataSources": [
        {
          "sourceId": 1031720,
          "sourceType": "datasetVersion",
          "datasetId": 426827
        }
      ],
      "dockerImageVersionId": 30746,
      "isInternetEnabled": true,
      "language": "python",
      "sourceType": "notebook",
      "isGpuEnabled": false
    },
    "colab": {
      "name": "Credit Card Approval Ensemble Method-LightGBM&XGB",
      "provenance": [],
      "include_colab_link": true
    }
  },
  "nbformat_minor": 0,
  "nbformat": 4,
  "cells": [
    {
      "cell_type": "markdown",
      "metadata": {
        "id": "view-in-github",
        "colab_type": "text"
      },
      "source": [
        "<a href=\"https://colab.research.google.com/github/omeruncu1/Credit-Card-Approval-Prediction/blob/main/Credit_Card_Approval_Ensemble_Method_LightGBM%26XGB.ipynb\" target=\"_parent\"><img src=\"https://colab.research.google.com/assets/colab-badge.svg\" alt=\"Open In Colab\"/></a>"
      ]
    },
    {
      "source": [
        "\n",
        "# IMPORTANT: RUN THIS CELL IN ORDER TO IMPORT YOUR KAGGLE DATA SOURCES\n",
        "# TO THE CORRECT LOCATION (/kaggle/input) IN YOUR NOTEBOOK,\n",
        "# THEN FEEL FREE TO DELETE THIS CELL.\n",
        "# NOTE: THIS NOTEBOOK ENVIRONMENT DIFFERS FROM KAGGLE'S PYTHON\n",
        "# ENVIRONMENT SO THERE MAY BE MISSING LIBRARIES USED BY YOUR\n",
        "# NOTEBOOK.\n",
        "\n",
        "import os\n",
        "import sys\n",
        "from tempfile import NamedTemporaryFile\n",
        "from urllib.request import urlopen\n",
        "from urllib.parse import unquote, urlparse\n",
        "from urllib.error import HTTPError\n",
        "from zipfile import ZipFile\n",
        "import tarfile\n",
        "import shutil\n",
        "\n",
        "CHUNK_SIZE = 40960\n",
        "DATA_SOURCE_MAPPING = 'credit-card-approval-prediction:https%3A%2F%2Fstorage.googleapis.com%2Fkaggle-data-sets%2F426827%2F1031720%2Fbundle%2Farchive.zip%3FX-Goog-Algorithm%3DGOOG4-RSA-SHA256%26X-Goog-Credential%3Dgcp-kaggle-com%2540kaggle-161607.iam.gserviceaccount.com%252F20240812%252Fauto%252Fstorage%252Fgoog4_request%26X-Goog-Date%3D20240812T231759Z%26X-Goog-Expires%3D259200%26X-Goog-SignedHeaders%3Dhost%26X-Goog-Signature%3D52926eae3f0731853dadc0138c3080d9e6532ed09256e63ff3b25e32ef99578f9b5269aea2f124880b770da32c1ec8391a0384cafa02ccbc23c840db05652e78a7e8a387ffbf73e34f646dc1eb2f8dd763f2518fb7b161abeeb190c029bc8e6c00dafa5c0afe643f8a5dc8be4d5958d7a8b5a745fd459a0a792c04e68b8a52e36d613f25319a29eb3865dee7e20e6f83e441c14d95dd3106b3e95f66c9e78c63fcebf825d3f09f5d17b76aecbd8168db57211e086cdee4db7643e6252f8e5e554c673cbc19e7b6dcc1ac217af4e7dbe2b23241bdf0a8514cbd256fbc4b87f26089e119ff3a857bab31b0dd871378803f5470f81b2b3fc6f7f30e39cb02737d9d'\n",
        "\n",
        "KAGGLE_INPUT_PATH='/kaggle/input'\n",
        "KAGGLE_WORKING_PATH='/kaggle/working'\n",
        "KAGGLE_SYMLINK='kaggle'\n",
        "\n",
        "!umount /kaggle/input/ 2> /dev/null\n",
        "shutil.rmtree('/kaggle/input', ignore_errors=True)\n",
        "os.makedirs(KAGGLE_INPUT_PATH, 0o777, exist_ok=True)\n",
        "os.makedirs(KAGGLE_WORKING_PATH, 0o777, exist_ok=True)\n",
        "\n",
        "try:\n",
        "  os.symlink(KAGGLE_INPUT_PATH, os.path.join(\"..\", 'input'), target_is_directory=True)\n",
        "except FileExistsError:\n",
        "  pass\n",
        "try:\n",
        "  os.symlink(KAGGLE_WORKING_PATH, os.path.join(\"..\", 'working'), target_is_directory=True)\n",
        "except FileExistsError:\n",
        "  pass\n",
        "\n",
        "for data_source_mapping in DATA_SOURCE_MAPPING.split(','):\n",
        "    directory, download_url_encoded = data_source_mapping.split(':')\n",
        "    download_url = unquote(download_url_encoded)\n",
        "    filename = urlparse(download_url).path\n",
        "    destination_path = os.path.join(KAGGLE_INPUT_PATH, directory)\n",
        "    try:\n",
        "        with urlopen(download_url) as fileres, NamedTemporaryFile() as tfile:\n",
        "            total_length = fileres.headers['content-length']\n",
        "            print(f'Downloading {directory}, {total_length} bytes compressed')\n",
        "            dl = 0\n",
        "            data = fileres.read(CHUNK_SIZE)\n",
        "            while len(data) > 0:\n",
        "                dl += len(data)\n",
        "                tfile.write(data)\n",
        "                done = int(50 * dl / int(total_length))\n",
        "                sys.stdout.write(f\"\\r[{'=' * done}{' ' * (50-done)}] {dl} bytes downloaded\")\n",
        "                sys.stdout.flush()\n",
        "                data = fileres.read(CHUNK_SIZE)\n",
        "            if filename.endswith('.zip'):\n",
        "              with ZipFile(tfile) as zfile:\n",
        "                zfile.extractall(destination_path)\n",
        "            else:\n",
        "              with tarfile.open(tfile.name) as tarfile:\n",
        "                tarfile.extractall(destination_path)\n",
        "            print(f'\\nDownloaded and uncompressed: {directory}')\n",
        "    except HTTPError as e:\n",
        "        print(f'Failed to load (likely expired) {download_url} to path {destination_path}')\n",
        "        continue\n",
        "    except OSError as e:\n",
        "        print(f'Failed to load {download_url} to path {destination_path}')\n",
        "        continue\n",
        "\n",
        "print('Data source import complete.')\n"
      ],
      "metadata": {
        "id": "QqIOESx84mKP"
      },
      "cell_type": "code",
      "outputs": [],
      "execution_count": null
    },
    {
      "cell_type": "markdown",
      "source": [
        "# Introduction:\n",
        "> - This study is a comprehensive machine learning project aimed at predicting the likelihood of credit card application approvals. In the project, I used a multi-stage approach including data preparation, feature engineering, model selection, hyperparameter optimization, and ensemble methods. Initially, two separate datasets (application records and credit records) were merged and thoroughly preprocessed. Using feature engineering techniques, I created a scenario, derived new features from existing data, and developed a credit scoring system. Using this scoring system, I obtained a Target Label according to the scenario. Various machine learning models were tested, and the best-performing models were selected for hyperparameter optimization. Using the best models, I evaluated ensemble methods, chose the best method to combine the models, and finally addressed the class imbalance issue to create the final model.\n",
        "\n",
        "Thank you in advance for your support."
      ],
      "metadata": {
        "id": "iL_oS1XC4mKS"
      }
    },
    {
      "cell_type": "markdown",
      "source": [
        "> ![image.png](attachment:b51148e5-2630-4cdf-81d5-733e969e333a.png)"
      ],
      "metadata": {
        "id": "F_WXtIvo4mKT"
      }
    },
    {
      "cell_type": "markdown",
      "source": [
        "## Content\n",
        "1. [Python Libraries](#1)\n",
        "1. [Data Loading and Initial Exploration](#2)\n",
        "1. [Handling Duplicates and Missing Values](#3)\n",
        "1. [Feature Analysis and Manipulation](#4)\n",
        "1. [Credit Scoring Calculation](#5)\n",
        "1. [Merging and Preprocessing Datasets](#6)\n",
        "1. [Data Visualization](#7)\n",
        "1. [Data Splitting and Preprocessing](#8)\n",
        "1. [Model Training and Evaluation](#9)\n",
        "1. [Feature Importance and Selection](#10)\n",
        "1. [Hyperparameter Tuning and Optimization](#11)\n",
        "1. [Ensemble Methods](#12)\n",
        "1. [Handling Class Imbalance](#13)\n",
        "1. [Final Model Training and Evaluation](#14)"
      ],
      "metadata": {
        "id": "inZQAfE84mKU"
      }
    },
    {
      "cell_type": "code",
      "source": [
        "# This Python 3 environment comes with many helpful analytics libraries installed\n",
        "# It is defined by the kaggle/python Docker image: https://github.com/kaggle/docker-python\n",
        "# For example, here's several helpful packages to load\n",
        "\n",
        "import numpy as np # linear algebra\n",
        "import pandas as pd # data processing, CSV file I/O (e.g. pd.read_csv)\n",
        "\n",
        "# Input data files are available in the read-only \"../input/\" directory\n",
        "# For example, running this (by clicking run or pressing Shift+Enter) will list all files under the input directory\n",
        "\n",
        "import os\n",
        "for dirname, _, filenames in os.walk('/kaggle/input'):\n",
        "    for filename in filenames:\n",
        "        print(os.path.join(dirname, filename))\n",
        "\n",
        "# You can write up to 20GB to the current directory (/kaggle/working/) that gets preserved as output when you create a version using \"Save & Run All\"\n",
        "# You can also write temporary files to /kaggle/temp/, but they won't be saved outside of the current session"
      ],
      "metadata": {
        "_uuid": "8f2839f25d086af736a60e9eeb907d3b93b6e0e5",
        "_cell_guid": "b1076dfc-b9ad-4769-8c92-a6c4dae69d19",
        "execution": {
          "iopub.status.busy": "2024-08-12T11:19:45.390462Z",
          "iopub.execute_input": "2024-08-12T11:19:45.391075Z",
          "iopub.status.idle": "2024-08-12T11:19:45.973351Z",
          "shell.execute_reply.started": "2024-08-12T11:19:45.391031Z",
          "shell.execute_reply": "2024-08-12T11:19:45.971988Z"
        },
        "trusted": true,
        "id": "4CUhc8Fb4mKU"
      },
      "execution_count": null,
      "outputs": []
    },
    {
      "cell_type": "markdown",
      "source": [
        "<a id=\"1\"></a>\n",
        "## 1. Python Libraries"
      ],
      "metadata": {
        "id": "FijPJrR64mKU"
      }
    },
    {
      "cell_type": "code",
      "source": [
        "# Data Manipulation\n",
        "import pandas as pd\n",
        "import numpy as np\n",
        "\n",
        "# Typing and Pretty Printing\n",
        "from typing import List, Dict, Any\n",
        "from pprint import pprint\n",
        "\n",
        "# Visualization\n",
        "import matplotlib.pyplot as plt\n",
        "import seaborn as sns\n",
        "\n",
        "# Preprocessing\n",
        "from sklearn.preprocessing import MinMaxScaler, StandardScaler, OneHotEncoder, FunctionTransformer\n",
        "from sklearn.impute import SimpleImputer\n",
        "\n",
        "# Model Selection\n",
        "from sklearn.model_selection import train_test_split, RandomizedSearchCV, cross_val_score\n",
        "\n",
        "# Pipelines and Column Transformation\n",
        "from sklearn.pipeline import Pipeline\n",
        "from sklearn.compose import ColumnTransformer\n",
        "\n",
        "# Machine Learning Models\n",
        "from sklearn.svm import LinearSVC\n",
        "from sklearn.naive_bayes import GaussianNB\n",
        "from sklearn.neighbors import KNeighborsClassifier\n",
        "from sklearn.ensemble import RandomForestClassifier, GradientBoostingClassifier, VotingClassifier, StackingClassifier\n",
        "import lightgbm as lgb\n",
        "import xgboost as xgb\n",
        "from lightgbm import LGBMClassifier\n",
        "from sklearn.linear_model import LogisticRegression\n",
        "\n",
        "# Decision Trees\n",
        "from sklearn.tree import DecisionTreeRegressor, export_text\n",
        "\n",
        "# Model Evaluation\n",
        "from sklearn.metrics import make_scorer, accuracy_score, classification_report, f1_score, roc_auc_score, precision_recall_curve, average_precision_score, matthews_corrcoef, balanced_accuracy_score, precision_score, recall_score\n",
        "\n",
        "# Class Weight Computation\n",
        "from sklearn.utils.class_weight import compute_class_weight\n",
        "\n",
        "# Feature Selection\n",
        "from sklearn.feature_selection import SelectFromModel\n",
        "\n",
        "# Model Calibration\n",
        "from sklearn.calibration import CalibratedClassifierCV\n",
        "\n",
        "# Oversampling Techniques\n",
        "from imblearn.over_sampling import SMOTE, ADASYN, RandomOverSampler\n",
        "\n",
        "import warnings\n",
        "warnings.filterwarnings(\"ignore\")"
      ],
      "metadata": {
        "execution": {
          "iopub.status.busy": "2024-08-12T11:19:48.910269Z",
          "iopub.execute_input": "2024-08-12T11:19:48.911054Z",
          "iopub.status.idle": "2024-08-12T11:19:52.203306Z",
          "shell.execute_reply.started": "2024-08-12T11:19:48.911003Z",
          "shell.execute_reply": "2024-08-12T11:19:52.20198Z"
        },
        "trusted": true,
        "id": "MjI9UAzZ4mKV"
      },
      "execution_count": null,
      "outputs": []
    },
    {
      "cell_type": "markdown",
      "source": [
        "<a id=\"2\"></a>\n",
        "## 2. Data Loading and Initial Exploration"
      ],
      "metadata": {
        "id": "v544p7h34mKV"
      }
    },
    {
      "cell_type": "code",
      "source": [
        "data_app = pd.read_csv(\"../input/credit-card-approval-prediction/application_record.csv\")\n",
        "data_cre = pd.read_csv(\"../input/credit-card-approval-prediction/credit_record.csv\")"
      ],
      "metadata": {
        "execution": {
          "iopub.status.busy": "2024-08-12T11:19:52.205725Z",
          "iopub.execute_input": "2024-08-12T11:19:52.206365Z",
          "iopub.status.idle": "2024-08-12T11:19:55.181023Z",
          "shell.execute_reply.started": "2024-08-12T11:19:52.206329Z",
          "shell.execute_reply": "2024-08-12T11:19:55.179865Z"
        },
        "trusted": true,
        "id": "sXfdwv9u4mKW"
      },
      "execution_count": null,
      "outputs": []
    },
    {
      "cell_type": "code",
      "source": [
        "data_app.head()"
      ],
      "metadata": {
        "execution": {
          "iopub.status.busy": "2024-08-12T11:19:55.183056Z",
          "iopub.execute_input": "2024-08-12T11:19:55.183525Z",
          "iopub.status.idle": "2024-08-12T11:19:55.222457Z",
          "shell.execute_reply.started": "2024-08-12T11:19:55.183493Z",
          "shell.execute_reply": "2024-08-12T11:19:55.221195Z"
        },
        "trusted": true,
        "id": "oZjPOMVz4mKW"
      },
      "execution_count": null,
      "outputs": []
    },
    {
      "cell_type": "code",
      "source": [
        "data_cre.head()"
      ],
      "metadata": {
        "execution": {
          "iopub.status.busy": "2024-08-12T11:20:01.475107Z",
          "iopub.execute_input": "2024-08-12T11:20:01.475725Z",
          "iopub.status.idle": "2024-08-12T11:20:01.491718Z",
          "shell.execute_reply.started": "2024-08-12T11:20:01.475673Z",
          "shell.execute_reply": "2024-08-12T11:20:01.490062Z"
        },
        "trusted": true,
        "id": "u4ey8UaE4mKW"
      },
      "execution_count": null,
      "outputs": []
    },
    {
      "cell_type": "code",
      "source": [
        "data_app.info()"
      ],
      "metadata": {
        "execution": {
          "iopub.status.busy": "2024-08-12T11:20:03.910095Z",
          "iopub.execute_input": "2024-08-12T11:20:03.910714Z",
          "iopub.status.idle": "2024-08-12T11:20:04.327968Z",
          "shell.execute_reply.started": "2024-08-12T11:20:03.910667Z",
          "shell.execute_reply": "2024-08-12T11:20:04.326463Z"
        },
        "trusted": true,
        "id": "YypfeEwi4mKW"
      },
      "execution_count": null,
      "outputs": []
    },
    {
      "cell_type": "code",
      "source": [
        "data_cre.info()"
      ],
      "metadata": {
        "execution": {
          "iopub.status.busy": "2024-08-12T11:20:06.052466Z",
          "iopub.execute_input": "2024-08-12T11:20:06.053004Z",
          "iopub.status.idle": "2024-08-12T11:20:06.186226Z",
          "shell.execute_reply.started": "2024-08-12T11:20:06.05296Z",
          "shell.execute_reply": "2024-08-12T11:20:06.184745Z"
        },
        "trusted": true,
        "id": "_1WtAw-y4mKW"
      },
      "execution_count": null,
      "outputs": []
    },
    {
      "cell_type": "markdown",
      "source": [
        "<a id=\"3\"></a>\n",
        "## 3. Handling Duplicates and Missing Values"
      ],
      "metadata": {
        "id": "gxJblW6c4mKX"
      }
    },
    {
      "cell_type": "code",
      "source": [
        "data_app.ID.nunique()"
      ],
      "metadata": {
        "execution": {
          "iopub.status.busy": "2024-08-12T11:20:06.399507Z",
          "iopub.execute_input": "2024-08-12T11:20:06.400003Z",
          "iopub.status.idle": "2024-08-12T11:20:06.434313Z",
          "shell.execute_reply.started": "2024-08-12T11:20:06.399968Z",
          "shell.execute_reply": "2024-08-12T11:20:06.432802Z"
        },
        "trusted": true,
        "id": "8kbl-t5s4mKX"
      },
      "execution_count": null,
      "outputs": []
    },
    {
      "cell_type": "code",
      "source": [
        "duplicate_ids = data_app[data_app.duplicated(subset=['ID'], keep=False)].sort_values('ID')\n",
        "duplicate_ids"
      ],
      "metadata": {
        "execution": {
          "iopub.status.busy": "2024-08-12T11:20:06.564173Z",
          "iopub.execute_input": "2024-08-12T11:20:06.564635Z",
          "iopub.status.idle": "2024-08-12T11:20:06.63029Z",
          "shell.execute_reply.started": "2024-08-12T11:20:06.564601Z",
          "shell.execute_reply": "2024-08-12T11:20:06.628547Z"
        },
        "trusted": true,
        "id": "9v44RFDU4mKX"
      },
      "execution_count": null,
      "outputs": []
    },
    {
      "cell_type": "markdown",
      "source": [
        "**Understanding duplication**"
      ],
      "metadata": {
        "id": "KfhbNgje4mKX"
      }
    },
    {
      "cell_type": "code",
      "source": [
        "# Grouping duplicate IDs\n",
        "grouped_duplicates = duplicate_ids.groupby('ID')\n",
        "\n",
        "# Finding columns that differ\n",
        "differences = {}\n",
        "\n",
        "for client_id, group in grouped_duplicates:\n",
        "    # Find the columns that differ for each group\n",
        "    diff = group.loc[:, group.nunique() > 1]\n",
        "    differences[client_id] = diff\n",
        "\n",
        "# Printing the differences on the screen\n",
        "for client_id, diff in differences.items():\n",
        "    print(f\"ID: {client_id}\")\n",
        "    print(diff)\n",
        "    print(\"\\n\")"
      ],
      "metadata": {
        "execution": {
          "iopub.status.busy": "2024-08-12T11:20:06.887467Z",
          "iopub.execute_input": "2024-08-12T11:20:06.887896Z",
          "iopub.status.idle": "2024-08-12T11:20:07.235626Z",
          "shell.execute_reply.started": "2024-08-12T11:20:06.887867Z",
          "shell.execute_reply": "2024-08-12T11:20:07.234023Z"
        },
        "trusted": true,
        "id": "dV99sWaR4mKX"
      },
      "execution_count": null,
      "outputs": []
    },
    {
      "cell_type": "markdown",
      "source": [
        "**Conclusion**\n",
        "\n",
        "Since we cannot make a clear assumption about the reason for the changing data, we will generalize and assume that there are repeated data due to incorrect data entries or changes depending on time, and choose the last one."
      ],
      "metadata": {
        "id": "gGCBZsgW4mKX"
      }
    },
    {
      "cell_type": "markdown",
      "source": [
        "**Drop duplicate IDs**"
      ],
      "metadata": {
        "id": "pTr5muri4mKX"
      }
    },
    {
      "cell_type": "code",
      "source": [
        "data_app = data_app.drop_duplicates(subset=['ID'], keep='last')"
      ],
      "metadata": {
        "execution": {
          "iopub.status.busy": "2024-08-12T11:20:07.333664Z",
          "iopub.execute_input": "2024-08-12T11:20:07.334071Z",
          "iopub.status.idle": "2024-08-12T11:20:07.426937Z",
          "shell.execute_reply.started": "2024-08-12T11:20:07.334043Z",
          "shell.execute_reply": "2024-08-12T11:20:07.425692Z"
        },
        "trusted": true,
        "id": "aUikUTRq4mKX"
      },
      "execution_count": null,
      "outputs": []
    },
    {
      "cell_type": "markdown",
      "source": [
        "**Check Null values**"
      ],
      "metadata": {
        "id": "Z2KhQWew4mKX"
      }
    },
    {
      "cell_type": "code",
      "source": [
        "data_app.isnull().sum()"
      ],
      "metadata": {
        "execution": {
          "iopub.status.busy": "2024-08-12T11:20:07.597586Z",
          "iopub.execute_input": "2024-08-12T11:20:07.598147Z",
          "iopub.status.idle": "2024-08-12T11:20:07.985538Z",
          "shell.execute_reply.started": "2024-08-12T11:20:07.598106Z",
          "shell.execute_reply": "2024-08-12T11:20:07.984111Z"
        },
        "trusted": true,
        "id": "SzrdzxcY4mKY"
      },
      "execution_count": null,
      "outputs": []
    },
    {
      "cell_type": "code",
      "source": [
        "data_cre.isnull().sum()"
      ],
      "metadata": {
        "execution": {
          "iopub.status.busy": "2024-08-12T11:20:07.987862Z",
          "iopub.execute_input": "2024-08-12T11:20:07.988281Z",
          "iopub.status.idle": "2024-08-12T11:20:08.115689Z",
          "shell.execute_reply.started": "2024-08-12T11:20:07.988252Z",
          "shell.execute_reply": "2024-08-12T11:20:08.114211Z"
        },
        "trusted": true,
        "id": "FNBfw0FD4mKY"
      },
      "execution_count": null,
      "outputs": []
    },
    {
      "cell_type": "markdown",
      "source": [
        "**Take action for Nulls**"
      ],
      "metadata": {
        "id": "W98oZ3sn4mKY"
      }
    },
    {
      "cell_type": "code",
      "source": [
        "data_app['OCCUPATION_TYPE'].fillna('Unknown', inplace=True)"
      ],
      "metadata": {
        "execution": {
          "iopub.status.busy": "2024-08-12T11:20:08.118044Z",
          "iopub.execute_input": "2024-08-12T11:20:08.118516Z",
          "iopub.status.idle": "2024-08-12T11:20:08.173335Z",
          "shell.execute_reply.started": "2024-08-12T11:20:08.118476Z",
          "shell.execute_reply": "2024-08-12T11:20:08.171917Z"
        },
        "trusted": true,
        "id": "-V8nviZO4mKY"
      },
      "execution_count": null,
      "outputs": []
    },
    {
      "cell_type": "markdown",
      "source": [
        "<a id=\"4\"></a>\n",
        "## 4. Feature Analysis and Manupulation"
      ],
      "metadata": {
        "id": "tnO-kHkY4mKY"
      }
    },
    {
      "cell_type": "code",
      "source": [
        "def unique_values_sorted(df: pd.DataFrame, columns: List[str]) -> Dict[str, List[Any]]:\n",
        "    valid_columns = df.columns.intersection(columns)\n",
        "\n",
        "    def safe_sort(values):\n",
        "        try:\n",
        "            return sorted(values)\n",
        "        except TypeError:\n",
        "            return sorted(map(str, values))\n",
        "\n",
        "    return {col: safe_sort(df[col].unique()) for col in valid_columns}"
      ],
      "metadata": {
        "execution": {
          "iopub.status.busy": "2024-08-12T11:20:08.349973Z",
          "iopub.execute_input": "2024-08-12T11:20:08.350419Z",
          "iopub.status.idle": "2024-08-12T11:20:08.358413Z",
          "shell.execute_reply.started": "2024-08-12T11:20:08.350387Z",
          "shell.execute_reply": "2024-08-12T11:20:08.356865Z"
        },
        "trusted": true,
        "id": "EAuJyvtG4mKY"
      },
      "execution_count": null,
      "outputs": []
    },
    {
      "cell_type": "markdown",
      "source": [
        "**Application Record Data**"
      ],
      "metadata": {
        "id": "_uEovFaS4mKY"
      }
    },
    {
      "cell_type": "code",
      "source": [
        "selected_columns = ['CODE_GENDER', 'FLAG_OWN_CAR ', 'FLAG_OWN_REALTY', 'CNT_CHILDREN',\n",
        "                    'NAME_INCOME_TYPE', 'NAME_EDUCATION_TYPE', 'NAME_FAMILY_STATUS',\n",
        "                    'NAME_HOUSING_TYPE', 'FLAG_MOBIL', 'FLAG_WORK_PHONE', 'FLAG_PHONE',\n",
        "                    'FLAG_EMAIL', 'OCCUPATION_TYPE ', 'CNT_FAM_MEMBERS']"
      ],
      "metadata": {
        "execution": {
          "iopub.status.busy": "2024-08-12T11:20:08.663943Z",
          "iopub.execute_input": "2024-08-12T11:20:08.664399Z",
          "iopub.status.idle": "2024-08-12T11:20:08.672011Z",
          "shell.execute_reply.started": "2024-08-12T11:20:08.664365Z",
          "shell.execute_reply": "2024-08-12T11:20:08.670167Z"
        },
        "trusted": true,
        "id": "sIYcR8gu4mKY"
      },
      "execution_count": null,
      "outputs": []
    },
    {
      "cell_type": "code",
      "source": [
        "result = unique_values_sorted(data_app, selected_columns)\n",
        "pprint(result)"
      ],
      "metadata": {
        "execution": {
          "iopub.status.busy": "2024-08-12T11:20:08.814576Z",
          "iopub.execute_input": "2024-08-12T11:20:08.814997Z",
          "iopub.status.idle": "2024-08-12T11:20:09.079114Z",
          "shell.execute_reply.started": "2024-08-12T11:20:08.814967Z",
          "shell.execute_reply": "2024-08-12T11:20:09.077632Z"
        },
        "trusted": true,
        "id": "X-vVOk8G4mKY"
      },
      "execution_count": null,
      "outputs": []
    },
    {
      "cell_type": "markdown",
      "source": [
        "**Conclusion**\n",
        "\n",
        "The FLAG_MOBIL column contains only a single unique value (1), which means it does not carry any information for your model and will be removed from the dataset.\n",
        "\n",
        "\n",
        "We can start creating the scenario at this step: Part-1\n",
        "\n",
        "Let's begin by manipulating the CNT_CHILDREN and CNT_FAM_MEMBERS data.\n",
        "\n",
        "First, calculate the number of adults in the family and add this information to our dataset. Then, drop the columns we have worked on."
      ],
      "metadata": {
        "id": "4xneW3mT4mKY"
      }
    },
    {
      "cell_type": "code",
      "source": [
        "data_app.drop('FLAG_MOBIL', inplace=True, axis = 1)"
      ],
      "metadata": {
        "execution": {
          "iopub.status.busy": "2024-08-12T11:20:09.131704Z",
          "iopub.execute_input": "2024-08-12T11:20:09.132156Z",
          "iopub.status.idle": "2024-08-12T11:20:09.205878Z",
          "shell.execute_reply.started": "2024-08-12T11:20:09.132121Z",
          "shell.execute_reply": "2024-08-12T11:20:09.204399Z"
        },
        "trusted": true,
        "id": "9PsFdElN4mKZ"
      },
      "execution_count": null,
      "outputs": []
    },
    {
      "cell_type": "code",
      "source": [
        "data_app['CNT_ADLT_FAM_MEMBERS'] = data_app['CNT_FAM_MEMBERS'] - data_app['CNT_CHILDREN']\n",
        "data_app.loc[data_app['CNT_ADLT_FAM_MEMBERS'] <= 0, 'CNT_ADLT_FAM_MEMBERS'] = data_app['CNT_FAM_MEMBERS']"
      ],
      "metadata": {
        "execution": {
          "iopub.status.busy": "2024-08-12T11:20:09.292577Z",
          "iopub.execute_input": "2024-08-12T11:20:09.293048Z",
          "iopub.status.idle": "2024-08-12T11:20:09.315959Z",
          "shell.execute_reply.started": "2024-08-12T11:20:09.293016Z",
          "shell.execute_reply": "2024-08-12T11:20:09.314821Z"
        },
        "trusted": true,
        "id": "9akIwirC4mKZ"
      },
      "execution_count": null,
      "outputs": []
    },
    {
      "cell_type": "code",
      "source": [
        "data_app.drop(columns=['CNT_CHILDREN', 'CNT_FAM_MEMBERS'], inplace=True)"
      ],
      "metadata": {
        "execution": {
          "iopub.status.busy": "2024-08-12T11:20:09.451386Z",
          "iopub.execute_input": "2024-08-12T11:20:09.451824Z",
          "iopub.status.idle": "2024-08-12T11:20:09.518409Z",
          "shell.execute_reply.started": "2024-08-12T11:20:09.451794Z",
          "shell.execute_reply": "2024-08-12T11:20:09.51707Z"
        },
        "trusted": true,
        "id": "UXytGbfS4mKZ"
      },
      "execution_count": null,
      "outputs": []
    },
    {
      "cell_type": "code",
      "source": [
        "selected_columns.append('CNT_ADLT_FAM_MEMBERS')"
      ],
      "metadata": {
        "execution": {
          "iopub.status.busy": "2024-08-12T11:20:09.615553Z",
          "iopub.execute_input": "2024-08-12T11:20:09.615975Z",
          "iopub.status.idle": "2024-08-12T11:20:09.621966Z",
          "shell.execute_reply.started": "2024-08-12T11:20:09.615947Z",
          "shell.execute_reply": "2024-08-12T11:20:09.620653Z"
        },
        "trusted": true,
        "id": "bdOrgg7b4mKZ"
      },
      "execution_count": null,
      "outputs": []
    },
    {
      "cell_type": "code",
      "source": [
        "result = unique_values_sorted(data_app, selected_columns)\n",
        "pprint(result)"
      ],
      "metadata": {
        "execution": {
          "iopub.status.busy": "2024-08-12T11:20:09.772419Z",
          "iopub.execute_input": "2024-08-12T11:20:09.77295Z",
          "iopub.status.idle": "2024-08-12T11:20:10.030217Z",
          "shell.execute_reply.started": "2024-08-12T11:20:09.772912Z",
          "shell.execute_reply": "2024-08-12T11:20:10.028537Z"
        },
        "trusted": true,
        "id": "lqu5bw_84mKZ"
      },
      "execution_count": null,
      "outputs": []
    },
    {
      "cell_type": "markdown",
      "source": [
        "**Scenario Evaluation**\n",
        "\n",
        "The newly created CNT_ADLT_FAM_MEMBERS data will show us whether there are adults around the person who can provide support.\n",
        "\n",
        "The underlying logic: As is well known, the foundation of banking is built on the payments it receives from its customers. Here, we focused more on the number of people who can assist the customer with their payments rather than the number of dependents the customer has, and we created a new feature for ourselves."
      ],
      "metadata": {
        "id": "Fe91lPhC4mKZ"
      }
    },
    {
      "cell_type": "markdown",
      "source": [
        "**Credit Record Data**"
      ],
      "metadata": {
        "id": "mjmvmpCM4mKZ"
      }
    },
    {
      "cell_type": "code",
      "source": [
        "selected_columns = ['STATUS']"
      ],
      "metadata": {
        "execution": {
          "iopub.status.busy": "2024-08-12T11:20:10.292398Z",
          "iopub.execute_input": "2024-08-12T11:20:10.292915Z",
          "iopub.status.idle": "2024-08-12T11:20:10.299732Z",
          "shell.execute_reply.started": "2024-08-12T11:20:10.29288Z",
          "shell.execute_reply": "2024-08-12T11:20:10.298037Z"
        },
        "trusted": true,
        "id": "azIb7P7D4mKd"
      },
      "execution_count": null,
      "outputs": []
    },
    {
      "cell_type": "code",
      "source": [
        "result = unique_values_sorted(data_cre, selected_columns)\n",
        "pprint(result)"
      ],
      "metadata": {
        "execution": {
          "iopub.status.busy": "2024-08-12T11:20:10.430662Z",
          "iopub.execute_input": "2024-08-12T11:20:10.431222Z",
          "iopub.status.idle": "2024-08-12T11:20:10.523533Z",
          "shell.execute_reply.started": "2024-08-12T11:20:10.431183Z",
          "shell.execute_reply": "2024-08-12T11:20:10.522148Z"
        },
        "trusted": true,
        "id": "qcO8NQry4mKd"
      },
      "execution_count": null,
      "outputs": []
    },
    {
      "cell_type": "markdown",
      "source": [
        "**Continuing Our Scenario: Part-2**\n",
        "Let's continue the fun by gradually building our main story.\n",
        "At this stage, let's start approaching the logic of Turkish banking. Let's examine the main information that will help us get an idea:\n",
        "- Very good – 1700-1900. (Credit card is given with eyes closed)\n",
        "- Good – 1500-1699. (Credit card can be given with one eye closed)\n",
        "- Normal – 1100-1499. (Credit card can be given with eyes open)\n",
        "- Medium risk – 700-1099. (Credit card is not given with eyes open)\n",
        "- Risky – 1-699. (Credit card is not given with one eye closed)\n",
        "- High risk – 0. (Credit card is not given with eyes closed)"
      ],
      "metadata": {
        "id": "hpNYEciR4mKd"
      }
    },
    {
      "cell_type": "markdown",
      "source": [
        "To keep up with our scenario, let's start scoring in this dataset.\n",
        "\n",
        "- 0: 1-29 days past due => -100 points\n",
        "- 1: 30-59 days past due => -300 points\n",
        "- 2: 60-89 days overdue => -500 points\n",
        "- 3: 90-119 days overdue => -700 points\n",
        "- 4: 120-149 days overdue => -900 points\n",
        "- 5: Overdue or bad debts, write-offs for more than 150 days => -1500 points\n",
        "- C: paid off that month => 1000 points\n",
        "- X: No loan for the month => 0 points\n",
        "\n",
        "The scoring might be a bit harsh or unrealistic, but let's remember that our goal is not to reach the truth but to get as close to it as possible."
      ],
      "metadata": {
        "id": "u069uBj-4mKe"
      }
    },
    {
      "cell_type": "markdown",
      "source": [
        "<a id=\"5\"></a>\n",
        "## 5. Credit Scoring Calculation"
      ],
      "metadata": {
        "id": "Qp9_t6VU4mKe"
      }
    },
    {
      "cell_type": "code",
      "source": [
        "# Score map\n",
        "status_score_map = {\n",
        "    '0': -100,\n",
        "    '1': -300,\n",
        "    '2': -500,\n",
        "    '3': -700,\n",
        "    '4': -900,\n",
        "    '5': -1500,\n",
        "    'C': 1000,\n",
        "    'X': 0\n",
        "}\n",
        "\n",
        "# Calculate points based on STATUS column\n",
        "data_cre['CREDIT_SCORE'] = data_cre['STATUS'].map(status_score_map)\n",
        "\n",
        "# Calculate total score for each customer\n",
        "result = data_cre.groupby('ID')['CREDIT_SCORE'].sum().reset_index()"
      ],
      "metadata": {
        "execution": {
          "iopub.status.busy": "2024-08-12T11:20:11.083713Z",
          "iopub.execute_input": "2024-08-12T11:20:11.084213Z",
          "iopub.status.idle": "2024-08-12T11:20:11.206324Z",
          "shell.execute_reply.started": "2024-08-12T11:20:11.084179Z",
          "shell.execute_reply": "2024-08-12T11:20:11.205055Z"
        },
        "trusted": true,
        "id": "VysIyHZh4mKe"
      },
      "execution_count": null,
      "outputs": []
    },
    {
      "cell_type": "code",
      "source": [
        "result.describe()"
      ],
      "metadata": {
        "execution": {
          "iopub.status.busy": "2024-08-12T11:20:11.249626Z",
          "iopub.execute_input": "2024-08-12T11:20:11.250196Z",
          "iopub.status.idle": "2024-08-12T11:20:11.283202Z",
          "shell.execute_reply.started": "2024-08-12T11:20:11.250149Z",
          "shell.execute_reply": "2024-08-12T11:20:11.281769Z"
        },
        "trusted": true,
        "id": "mZBySymU4mKe"
      },
      "execution_count": null,
      "outputs": []
    },
    {
      "cell_type": "markdown",
      "source": [
        "<a id=\"6\"></a>\n",
        "## 6. Merging and Preprocessing Datasets"
      ],
      "metadata": {
        "id": "zF303b4d4mKe"
      }
    },
    {
      "cell_type": "code",
      "source": [
        "# Join by ID column (outer join)\n",
        "merged_df = pd.merge(data_app, result, on='ID', how='left')"
      ],
      "metadata": {
        "execution": {
          "iopub.status.busy": "2024-08-12T11:20:11.572851Z",
          "iopub.execute_input": "2024-08-12T11:20:11.573308Z",
          "iopub.status.idle": "2024-08-12T11:20:11.690254Z",
          "shell.execute_reply.started": "2024-08-12T11:20:11.573272Z",
          "shell.execute_reply": "2024-08-12T11:20:11.689017Z"
        },
        "trusted": true,
        "id": "XEaBORgV4mKe"
      },
      "execution_count": null,
      "outputs": []
    },
    {
      "cell_type": "code",
      "source": [
        "merged_df.isnull().sum()"
      ],
      "metadata": {
        "execution": {
          "iopub.status.busy": "2024-08-12T11:20:11.736643Z",
          "iopub.execute_input": "2024-08-12T11:20:11.737103Z",
          "iopub.status.idle": "2024-08-12T11:20:12.12649Z",
          "shell.execute_reply.started": "2024-08-12T11:20:11.737071Z",
          "shell.execute_reply": "2024-08-12T11:20:12.125255Z"
        },
        "trusted": true,
        "id": "Defu_RN_4mKe"
      },
      "execution_count": null,
      "outputs": []
    },
    {
      "cell_type": "code",
      "source": [
        "# Assigning the value 0 to the CREDIT_SCORE column\n",
        "merged_df['CREDIT_SCORE'].fillna(0, inplace=True)"
      ],
      "metadata": {
        "execution": {
          "iopub.status.busy": "2024-08-12T11:20:12.128754Z",
          "iopub.execute_input": "2024-08-12T11:20:12.12923Z",
          "iopub.status.idle": "2024-08-12T11:20:12.137954Z",
          "shell.execute_reply.started": "2024-08-12T11:20:12.129189Z",
          "shell.execute_reply": "2024-08-12T11:20:12.136713Z"
        },
        "trusted": true,
        "id": "alidFNbR4mKf"
      },
      "execution_count": null,
      "outputs": []
    },
    {
      "cell_type": "markdown",
      "source": [
        "**Data Manipulating**\n",
        "\n",
        "Working on DAYS_BIRTH"
      ],
      "metadata": {
        "id": "8wM7L28v4mKf"
      }
    },
    {
      "cell_type": "code",
      "source": [
        "# Convert DAYS_BIRTH column to numeric type\n",
        "merged_df['DAYS_BIRTH'] = pd.to_numeric(merged_df['DAYS_BIRTH'], errors='coerce')\n",
        "\n",
        "# Convert DAYS_BIRTH column to age in days\n",
        "merged_df['AGE'] = (merged_df['DAYS_BIRTH'] / -365.25).astype(int)\n",
        "\n",
        "# Delete DAYS BIRTHDAY column\n",
        "merged_df.drop('DAYS_BIRTH', axis=1, inplace=True)"
      ],
      "metadata": {
        "execution": {
          "iopub.status.busy": "2024-08-12T11:20:12.235262Z",
          "iopub.execute_input": "2024-08-12T11:20:12.235716Z",
          "iopub.status.idle": "2024-08-12T11:20:12.316247Z",
          "shell.execute_reply.started": "2024-08-12T11:20:12.235682Z",
          "shell.execute_reply": "2024-08-12T11:20:12.314971Z"
        },
        "trusted": true,
        "id": "sIFKbMQD4mKf"
      },
      "execution_count": null,
      "outputs": []
    },
    {
      "cell_type": "markdown",
      "source": [
        "Working on DAYS_EMPLOYED\n",
        "\n",
        "In this Feature, we will assign average DAYS_EMPLOYED to the existing unreal values ​​according to the new AGE_GROUP and INCOME_GROUP Features that we will create. Then we will convert it to month."
      ],
      "metadata": {
        "id": "dSKK4DSg4mKf"
      }
    },
    {
      "cell_type": "code",
      "source": [
        "merged_df_drop = merged_df.drop('ID', axis=1)"
      ],
      "metadata": {
        "execution": {
          "iopub.status.busy": "2024-08-12T11:20:12.57091Z",
          "iopub.execute_input": "2024-08-12T11:20:12.571314Z",
          "iopub.status.idle": "2024-08-12T11:20:12.615665Z",
          "shell.execute_reply.started": "2024-08-12T11:20:12.571284Z",
          "shell.execute_reply": "2024-08-12T11:20:12.614389Z"
        },
        "trusted": true,
        "id": "BS11t1H-4mKf"
      },
      "execution_count": null,
      "outputs": []
    },
    {
      "cell_type": "code",
      "source": [
        "# Convert categorical variables to numerical data\n",
        "merged_df_encoded = pd.get_dummies(merged_df_drop)\n",
        "\n",
        "# Specify the features and target variable\n",
        "X = merged_df_encoded.drop(columns=['CREDIT_SCORE'])\n",
        "y = merged_df_encoded['CREDIT_SCORE']\n",
        "\n",
        "# Create and train the Decision Tree model\n",
        "model = DecisionTreeRegressor()\n",
        "model.fit(X, y)\n",
        "\n",
        "# Learn the rules of splitting\n",
        "tree_rules = export_text(model, feature_names=list(X.columns))"
      ],
      "metadata": {
        "execution": {
          "iopub.status.busy": "2024-08-12T11:20:12.726868Z",
          "iopub.execute_input": "2024-08-12T11:20:12.727299Z",
          "iopub.status.idle": "2024-08-12T11:20:19.536122Z",
          "shell.execute_reply.started": "2024-08-12T11:20:12.727271Z",
          "shell.execute_reply": "2024-08-12T11:20:19.53485Z"
        },
        "trusted": true,
        "id": "DuQNGZv14mKf"
      },
      "execution_count": null,
      "outputs": []
    },
    {
      "cell_type": "code",
      "source": [
        "# Filter AMT_INCOME_TOTAL breakdowns\n",
        "amt_income_total_splits = [line for line in tree_rules.split('\\n') if 'AMT_INCOME_TOTAL' in line]\n",
        "\n",
        "# Print results\n",
        "for line in amt_income_total_splits:\n",
        "    print(line)"
      ],
      "metadata": {
        "execution": {
          "iopub.status.busy": "2024-08-12T11:20:19.538307Z",
          "iopub.execute_input": "2024-08-12T11:20:19.538712Z",
          "iopub.status.idle": "2024-08-12T11:20:19.548106Z",
          "shell.execute_reply.started": "2024-08-12T11:20:19.53868Z",
          "shell.execute_reply": "2024-08-12T11:20:19.546464Z"
        },
        "trusted": true,
        "id": "_1n6yOOI4mKf"
      },
      "execution_count": null,
      "outputs": []
    },
    {
      "cell_type": "markdown",
      "source": [
        "We used the DecisionTree model to find the most important breakpoints in the AMT_INCOME_TOTAL data. We continue on our way with the values ​​we obtained from our first training.\n",
        "\n",
        "The values ​​we found: 0, 56250, 261000, 411750, 450000 (These values ​​may change when the model is retrained)"
      ],
      "metadata": {
        "id": "qItYmlnP4mKg"
      }
    },
    {
      "cell_type": "code",
      "source": [
        "# Assign average to DAYS_EMPLOYED values ​​greater than zero\n",
        "def assign_mean_days_employed(row):\n",
        "    if row['DAYS_EMPLOYED'] > 0:\n",
        "        key = (row['AGE_GROUP'], row['INCOME_GROUP'])\n",
        "        if key in mean_days_employed_dict:\n",
        "            return mean_days_employed_dict[key]\n",
        "    return row['DAYS_EMPLOYED']\n",
        "\n",
        "def remove_unassigned_rows(df):\n",
        "    initial_row_count = df.shape[0]\n",
        "    df_cleaned = df.dropna(subset=['DAYS_EMPLOYED'])\n",
        "    final_row_count = df_cleaned.shape[0]\n",
        "    rows_removed = initial_row_count - final_row_count\n",
        "    print(f\"Number of deleted rows: {rows_removed}\")\n",
        "    return df_cleaned, rows_removed\n",
        "\n",
        "# Separate AGE and AMT_INCOME_TOTAL columns by category\n",
        "age_bins = [0, 30, 40, 50, 60, 70]\n",
        "income_bins = [0, 56250, 261000, 411750, 450000, 7000000]\n",
        "\n",
        "merged_df['AGE_GROUP'] = pd.cut(merged_df['AGE'], bins=age_bins, right=False)\n",
        "merged_df['INCOME_GROUP'] = pd.cut(merged_df['AMT_INCOME_TOTAL'], bins=income_bins, right=False)\n",
        "\n",
        "# Calculate average by grouping by DAYS_EMPLOYED values ​​less than zero\n",
        "mean_days_employed = merged_df[merged_df['DAYS_EMPLOYED'] < 0].groupby(['AGE_GROUP', 'INCOME_GROUP'])['DAYS_EMPLOYED'].mean()\n",
        "\n",
        "# Create a dictionary\n",
        "mean_days_employed_dict = mean_days_employed.to_dict()\n",
        "\n",
        "# Assign average to DAYS_EMPLOYED values ​​greater than zero\n",
        "merged_df['DAYS_EMPLOYED'] = merged_df.apply(assign_mean_days_employed, axis=1)\n",
        "\n",
        "# Delete data that cannot be assigned\n",
        "merged_df, rows_removed = remove_unassigned_rows(merged_df)\n",
        "\n",
        "# Convert DAYS_EMPLOYED column from days to months\n",
        "merged_df['MONTHS_EMPLOYED'] = (merged_df['DAYS_EMPLOYED'] / -30.44).astype(int)\n",
        "\n",
        "# Delete DAYS_EMPLOYED column\n",
        "merged_df.drop('DAYS_EMPLOYED', axis=1, inplace=True)"
      ],
      "metadata": {
        "execution": {
          "iopub.status.busy": "2024-08-12T11:20:19.549806Z",
          "iopub.execute_input": "2024-08-12T11:20:19.550635Z",
          "iopub.status.idle": "2024-08-12T11:20:28.703385Z",
          "shell.execute_reply.started": "2024-08-12T11:20:19.550585Z",
          "shell.execute_reply": "2024-08-12T11:20:28.702058Z"
        },
        "trusted": true,
        "id": "wsJhlC4w4mKg"
      },
      "execution_count": null,
      "outputs": []
    },
    {
      "cell_type": "markdown",
      "source": [
        "Working on Evaluation Score"
      ],
      "metadata": {
        "id": "u0ny39tx4mKg"
      }
    },
    {
      "cell_type": "markdown",
      "source": [
        "FLAG_OWN_CAR :\n",
        "- Y : +5000\n",
        "- N : 0\n",
        "\n",
        "Evaluate owning a car positively.\n",
        "\n",
        "FLAG_OWN_REALTY :\n",
        "- Y : +10000\n",
        "- N : 0\n",
        "\n",
        "Consider being a homeowner positively.\n",
        "\n",
        "NAME_INCOME_TYPE :\n",
        "- Working : +1000\n",
        "- Commercial associate : +10000\n",
        "- Pensioner : +500\n",
        "- State Servant : +5000\n",
        "- Student : +500\n",
        "\n",
        "Provide special scoring for income types.\n",
        "\n",
        "NAME_HOUSING_TYPE :\n",
        "- Rented Apartment : -1000\n",
        "- House/Apartment : +500\n",
        "- Municipal apartment : +500\n",
        "- with parents : +500\n",
        "- Co-op apartment : +500\n",
        "- Office apartment : +500\n",
        "\n",
        "Give special scores for house types.\n",
        "\n",
        "FLAG_WORK_PHONE :\n",
        "- Y : +1000\n",
        "- N : 0\n",
        "\n",
        "We consider having a work phone as a positive thing, considering it as a corporate thing.\n",
        "\n",
        "FLAG_PHONE :\n",
        "- Y : +100\n",
        "- N : -100\n",
        "\n",
        "Accessibility scoring.\n",
        "\n",
        "FLAG_EMAIL :\n",
        "- Y : +100\n",
        "- N : -100\n",
        "\n",
        "Accessibility scoring.\n",
        "\n",
        "CNT_ADLT_FAM_MEMBERS :\n",
        "- 1< : +500\n",
        "\n",
        "Evaluating possible support."
      ],
      "metadata": {
        "id": "tAhCUdIR4mKg"
      }
    },
    {
      "cell_type": "code",
      "source": [
        "# Scoring dictionaries\n",
        "income_type_scores = {\n",
        "    'Working': 5000,\n",
        "    'Commercial associate': 10000,\n",
        "    'Pensioner': 500,\n",
        "    'State Servant': 10000,\n",
        "    'Student': 500\n",
        "}\n",
        "\n",
        "housing_type_scores = {\n",
        "    'Rented Apartment': -1000,\n",
        "    'House/Apartment': 500,\n",
        "    'Municipal apartment': 500,\n",
        "    'with parents': 500,\n",
        "    'Co-op apartment': 500,\n",
        "    'Office apartment': 500\n",
        "}\n",
        "\n",
        "# Scoring function\n",
        "def calculate_evaluation_score(row):\n",
        "    score = 0\n",
        "\n",
        "    score += 5000 if row['FLAG_OWN_CAR'] == 'Y' else 0\n",
        "    score += 10000 if row['FLAG_OWN_REALTY'] == 'Y' else 0\n",
        "    score += income_type_scores.get(row['NAME_INCOME_TYPE'], 0)\n",
        "    score += housing_type_scores.get(row['NAME_HOUSING_TYPE'], 0)\n",
        "    score += 1000 if row['FLAG_WORK_PHONE'] == 'Y' else 0\n",
        "    score += 100 if row['FLAG_PHONE'] == 'Y' else -100\n",
        "    score += 100 if row['FLAG_EMAIL'] == 'Y' else -100\n",
        "    score += 500 if row['CNT_ADLT_FAM_MEMBERS'] > 1 else 0\n",
        "\n",
        "    return score\n",
        "\n",
        "# Adding the Evaluation_Score feature\n",
        "merged_df['Evaluation_Score'] = merged_df.apply(calculate_evaluation_score, axis=1)"
      ],
      "metadata": {
        "execution": {
          "iopub.status.busy": "2024-08-12T11:20:29.628013Z",
          "iopub.execute_input": "2024-08-12T11:20:29.628409Z",
          "iopub.status.idle": "2024-08-12T11:20:52.102876Z",
          "shell.execute_reply.started": "2024-08-12T11:20:29.62838Z",
          "shell.execute_reply": "2024-08-12T11:20:52.10138Z"
        },
        "trusted": true,
        "id": "FXK9mOU04mKg"
      },
      "execution_count": null,
      "outputs": []
    },
    {
      "cell_type": "code",
      "source": [
        "merged_df.CREDIT_SCORE.describe()"
      ],
      "metadata": {
        "execution": {
          "iopub.status.busy": "2024-08-12T11:20:52.105226Z",
          "iopub.execute_input": "2024-08-12T11:20:52.105642Z",
          "iopub.status.idle": "2024-08-12T11:20:52.131731Z",
          "shell.execute_reply.started": "2024-08-12T11:20:52.105609Z",
          "shell.execute_reply": "2024-08-12T11:20:52.130331Z"
        },
        "trusted": true,
        "id": "FLMPGeEJ4mKg"
      },
      "execution_count": null,
      "outputs": []
    },
    {
      "cell_type": "code",
      "source": [
        "merged_df.Evaluation_Score.describe()"
      ],
      "metadata": {
        "execution": {
          "iopub.status.busy": "2024-08-12T11:20:52.133076Z",
          "iopub.execute_input": "2024-08-12T11:20:52.133453Z",
          "iopub.status.idle": "2024-08-12T11:20:52.15586Z",
          "shell.execute_reply.started": "2024-08-12T11:20:52.133408Z",
          "shell.execute_reply": "2024-08-12T11:20:52.154618Z"
        },
        "trusted": true,
        "id": "DZaaZSFy4mKg"
      },
      "execution_count": null,
      "outputs": []
    },
    {
      "cell_type": "markdown",
      "source": [
        "Working on Total_Score"
      ],
      "metadata": {
        "id": "PcfRE9E34mKg"
      }
    },
    {
      "cell_type": "code",
      "source": [
        "# Adding Evaluation_Score to CREDIT_SCORE\n",
        "merged_df['Total_Score'] = merged_df['CREDIT_SCORE']*0.7 + merged_df['Evaluation_Score']*0.3"
      ],
      "metadata": {
        "execution": {
          "iopub.status.busy": "2024-08-12T11:20:52.159269Z",
          "iopub.execute_input": "2024-08-12T11:20:52.159785Z",
          "iopub.status.idle": "2024-08-12T11:20:52.170565Z",
          "shell.execute_reply.started": "2024-08-12T11:20:52.159743Z",
          "shell.execute_reply": "2024-08-12T11:20:52.169149Z"
        },
        "trusted": true,
        "id": "wGGDl5dS4mKh"
      },
      "execution_count": null,
      "outputs": []
    },
    {
      "cell_type": "code",
      "source": [
        "merged_df.Total_Score.describe()"
      ],
      "metadata": {
        "execution": {
          "iopub.status.busy": "2024-08-12T11:20:52.172399Z",
          "iopub.execute_input": "2024-08-12T11:20:52.172958Z",
          "iopub.status.idle": "2024-08-12T11:20:52.200873Z",
          "shell.execute_reply.started": "2024-08-12T11:20:52.172912Z",
          "shell.execute_reply": "2024-08-12T11:20:52.199559Z"
        },
        "trusted": true,
        "id": "ZvtWCdaT4mKh"
      },
      "execution_count": null,
      "outputs": []
    },
    {
      "cell_type": "code",
      "source": [
        "plt.figure(figsize=(10, 6))\n",
        "sns.histplot(merged_df['Total_Score'], bins=30, kde=True)\n",
        "plt.title('Total_Score Dağılımı')\n",
        "plt.xlabel('Total_Score')\n",
        "plt.ylabel('Frekans')\n",
        "plt.show()"
      ],
      "metadata": {
        "execution": {
          "iopub.status.busy": "2024-08-12T11:20:52.202446Z",
          "iopub.execute_input": "2024-08-12T11:20:52.202802Z",
          "iopub.status.idle": "2024-08-12T11:20:54.923385Z",
          "shell.execute_reply.started": "2024-08-12T11:20:52.202773Z",
          "shell.execute_reply": "2024-08-12T11:20:54.922194Z"
        },
        "trusted": true,
        "id": "WZaGtMpU4mKh"
      },
      "execution_count": null,
      "outputs": []
    },
    {
      "cell_type": "code",
      "source": [
        "# Scale CREDIT_SCORE values ​​between 0 and 1900 using MinMaxScaler\n",
        "scaler = MinMaxScaler(feature_range=(0, 1900))\n",
        "merged_df['Total_Score_SCALED'] = (scaler.fit_transform(merged_df[['Total_Score']])).astype(int)"
      ],
      "metadata": {
        "execution": {
          "iopub.status.busy": "2024-08-12T11:20:54.924848Z",
          "iopub.execute_input": "2024-08-12T11:20:54.925207Z",
          "iopub.status.idle": "2024-08-12T11:20:54.942332Z",
          "shell.execute_reply.started": "2024-08-12T11:20:54.925177Z",
          "shell.execute_reply": "2024-08-12T11:20:54.940972Z"
        },
        "trusted": true,
        "id": "8SshntcB4mKh"
      },
      "execution_count": null,
      "outputs": []
    },
    {
      "cell_type": "code",
      "source": [
        "merged_df['Total_Score_SCALED'].describe()"
      ],
      "metadata": {
        "execution": {
          "iopub.status.busy": "2024-08-12T11:20:54.944185Z",
          "iopub.execute_input": "2024-08-12T11:20:54.94461Z",
          "iopub.status.idle": "2024-08-12T11:20:54.96861Z",
          "shell.execute_reply.started": "2024-08-12T11:20:54.944576Z",
          "shell.execute_reply": "2024-08-12T11:20:54.967413Z"
        },
        "trusted": true,
        "id": "c8elEodb4mKh"
      },
      "execution_count": null,
      "outputs": []
    },
    {
      "cell_type": "code",
      "source": [
        "# Define categories\n",
        "bins = [-1, 1, 699, 1099, 1499, 1699, 1900]\n",
        "labels = ['High risk', 'Risky', 'Medium risk', 'Normal', 'Good', 'Very good']\n",
        "\n",
        "# Apply categories\n",
        "merged_df['Total_Score_CATEGORY'] = pd.cut(merged_df['Total_Score_SCALED'], bins=bins, labels=labels)\n",
        "\n",
        "# Check the results\n",
        "print(merged_df[['Total_Score', 'Total_Score_SCALED', 'Total_Score_CATEGORY']].head())"
      ],
      "metadata": {
        "execution": {
          "iopub.status.busy": "2024-08-12T11:20:54.970534Z",
          "iopub.execute_input": "2024-08-12T11:20:54.970927Z",
          "iopub.status.idle": "2024-08-12T11:20:54.998146Z",
          "shell.execute_reply.started": "2024-08-12T11:20:54.970896Z",
          "shell.execute_reply": "2024-08-12T11:20:54.996784Z"
        },
        "trusted": true,
        "id": "i2BvBI8f4mKh"
      },
      "execution_count": null,
      "outputs": []
    },
    {
      "cell_type": "markdown",
      "source": [
        "**Last manupulation for Target_Label**\n",
        "\n",
        "We are fine-tuning the Medium Risks to ensure an even distribution of the Target Label."
      ],
      "metadata": {
        "id": "Gy9MyKyR4mKh"
      }
    },
    {
      "cell_type": "code",
      "source": [
        "income_labels = ['Low', 'Lower Middle', 'Middle', 'Upper Middle', 'High']\n",
        "\n",
        "# Classifying the Medium risk category\n",
        "merged_df['Income_Bin'] = pd.cut(merged_df['AMT_INCOME_TOTAL'], bins=income_bins, labels=income_labels, right=False)\n",
        "\n",
        "# Assign Income_Bin for Medium risk category\n",
        "def assign_income_bin(row):\n",
        "    if row['Total_Score_CATEGORY'] == 'Medium risk':\n",
        "        return row['Income_Bin']\n",
        "    return np.nan\n",
        "\n",
        "merged_df['Income_Bin'] = merged_df.apply(assign_income_bin, axis=1)"
      ],
      "metadata": {
        "execution": {
          "iopub.status.busy": "2024-08-12T11:20:55.004118Z",
          "iopub.execute_input": "2024-08-12T11:20:55.004539Z",
          "iopub.status.idle": "2024-08-12T11:21:03.105158Z",
          "shell.execute_reply.started": "2024-08-12T11:20:55.004506Z",
          "shell.execute_reply": "2024-08-12T11:21:03.10353Z"
        },
        "trusted": true,
        "id": "x5abqndt4mKh"
      },
      "execution_count": null,
      "outputs": []
    },
    {
      "cell_type": "code",
      "source": [
        "# Define the probabilities\n",
        "medium_risk_probabilities = {\n",
        "    'Low': 0,\n",
        "    'Lower Middle': [0.35, 0.65],\n",
        "    'Middle': [0.5, 0.5],  # Assuming equal probability for 1 and 0\n",
        "    'Upper Middle': [0.5, 0.5],  # Assuming equal probability for 1 and 0\n",
        "    'High': 1\n",
        "}\n",
        "\n",
        "probabilities = {\n",
        "    'Very good': 1,\n",
        "    'Good': 1,\n",
        "    'Normal': [0.6, 0.4],\n",
        "    'Risky': 0,\n",
        "    'High risk': 0\n",
        "}\n",
        "\n",
        "# Function to handle Medium risk probabilities\n",
        "def get_medium_risk_label(income_bin):\n",
        "    if income_bin in medium_risk_probabilities:\n",
        "        prob = medium_risk_probabilities[income_bin]\n",
        "        if isinstance(prob, list):\n",
        "            return np.random.choice([1, 0], p=prob)\n",
        "        return prob\n",
        "    return np.nan\n",
        "\n",
        "# Function to handle other probabilities\n",
        "def get_other_label(category):\n",
        "    if category in probabilities:\n",
        "        prob = probabilities[category]\n",
        "        if isinstance(prob, list):\n",
        "            return np.random.choice([1, 0], p=prob)\n",
        "        return prob\n",
        "    return np.nan\n",
        "\n",
        "# Apply the vectorized operations\n",
        "merged_df['TARGET_LABEL'] = np.where(\n",
        "    merged_df['Total_Score_CATEGORY'] == 'Medium risk',\n",
        "    merged_df['Income_Bin'].apply(get_medium_risk_label),\n",
        "    merged_df['Total_Score_CATEGORY'].apply(get_other_label)\n",
        ")"
      ],
      "metadata": {
        "execution": {
          "iopub.status.busy": "2024-08-12T11:21:03.106889Z",
          "iopub.execute_input": "2024-08-12T11:21:03.107291Z",
          "iopub.status.idle": "2024-08-12T11:21:16.622972Z",
          "shell.execute_reply.started": "2024-08-12T11:21:03.107258Z",
          "shell.execute_reply": "2024-08-12T11:21:16.621686Z"
        },
        "trusted": true,
        "id": "Y1oa5HWw4mKi"
      },
      "execution_count": null,
      "outputs": []
    },
    {
      "cell_type": "code",
      "source": [
        "# Visualize TARGET_LABEL distribution\n",
        "plt.figure(figsize=(10, 6))\n",
        "sns.countplot(x='TARGET_LABEL', data=merged_df)\n",
        "plt.title('TARGET_LABEL Frequency Distribution')\n",
        "plt.xlabel('TARGET_LABEL')\n",
        "plt.ylabel('Count')\n",
        "plt.show()"
      ],
      "metadata": {
        "execution": {
          "iopub.status.busy": "2024-08-12T11:21:16.62479Z",
          "iopub.execute_input": "2024-08-12T11:21:16.625616Z",
          "iopub.status.idle": "2024-08-12T11:21:16.935749Z",
          "shell.execute_reply.started": "2024-08-12T11:21:16.62557Z",
          "shell.execute_reply": "2024-08-12T11:21:16.934287Z"
        },
        "trusted": true,
        "id": "zdzks3kq4mKi"
      },
      "execution_count": null,
      "outputs": []
    },
    {
      "cell_type": "markdown",
      "source": [
        "As seen in the graph, we have obtained a distribution close to what we wanted.\n",
        "\n",
        "Now we will visualize and interpret our data."
      ],
      "metadata": {
        "id": "VYIRX8sC4mKi"
      }
    },
    {
      "cell_type": "markdown",
      "source": [
        "<a id=\"7\"></a>\n",
        "## 7. Data Visualization"
      ],
      "metadata": {
        "id": "uFDYMvmq4mKi"
      }
    },
    {
      "cell_type": "code",
      "source": [
        "plt.figure(figsize=(14, 7))\n",
        "sns.barplot(data=merged_df, x='AGE_GROUP', y='Total_Score', hue='NAME_EDUCATION_TYPE', palette='viridis')\n",
        "plt.title('Total_Score by Age Group and Education Type')\n",
        "plt.xlabel('AGE_GROUP')\n",
        "plt.ylabel('Total_Score')\n",
        "plt.legend(title='NAME_EDUCATION_TYPE', bbox_to_anchor=(1.05, 1), loc='upper left')\n",
        "plt.show()"
      ],
      "metadata": {
        "execution": {
          "iopub.status.busy": "2024-08-12T11:21:16.937471Z",
          "iopub.execute_input": "2024-08-12T11:21:16.937951Z",
          "iopub.status.idle": "2024-08-12T11:21:21.73333Z",
          "shell.execute_reply.started": "2024-08-12T11:21:16.937907Z",
          "shell.execute_reply": "2024-08-12T11:21:21.731772Z"
        },
        "trusted": true,
        "id": "X-dRdTBV4mKi"
      },
      "execution_count": null,
      "outputs": []
    },
    {
      "cell_type": "code",
      "source": [
        "plt.figure(figsize=(14, 7))\n",
        "sns.barplot(data=merged_df, x='INCOME_GROUP', y='Total_Score', hue='NAME_EDUCATION_TYPE', palette='viridis')\n",
        "plt.title('Total_Score by INCOME GROUP and Education Type')\n",
        "plt.xlabel('INCOME_GROUP')\n",
        "plt.ylabel('Total_Score')\n",
        "plt.legend(title='NAME_EDUCATION_TYPE', bbox_to_anchor=(1.05, 1), loc='upper left')\n",
        "plt.show()"
      ],
      "metadata": {
        "execution": {
          "iopub.status.busy": "2024-08-12T11:21:21.735131Z",
          "iopub.execute_input": "2024-08-12T11:21:21.735647Z",
          "iopub.status.idle": "2024-08-12T11:21:27.572421Z",
          "shell.execute_reply.started": "2024-08-12T11:21:21.735596Z",
          "shell.execute_reply": "2024-08-12T11:21:27.570727Z"
        },
        "trusted": true,
        "id": "arGMh_WZ4mKi"
      },
      "execution_count": null,
      "outputs": []
    },
    {
      "cell_type": "code",
      "source": [
        "plt.figure(figsize=(14, 7))\n",
        "sns.barplot(data=merged_df, x='INCOME_GROUP', y='Total_Score', hue='NAME_INCOME_TYPE', palette='viridis')\n",
        "plt.title('Total_Score by INCOME_GROUP and NAME_INCOME_TYPE')\n",
        "plt.xlabel('INCOME_GROUP')\n",
        "plt.ylabel('Total_Score')\n",
        "plt.legend(title='NAME_INCOME_TYPE', bbox_to_anchor=(1.05, 1), loc='upper left')\n",
        "plt.show()"
      ],
      "metadata": {
        "execution": {
          "iopub.status.busy": "2024-08-12T11:21:27.574118Z",
          "iopub.execute_input": "2024-08-12T11:21:27.574566Z",
          "iopub.status.idle": "2024-08-12T11:21:32.512881Z",
          "shell.execute_reply.started": "2024-08-12T11:21:27.57453Z",
          "shell.execute_reply": "2024-08-12T11:21:32.511492Z"
        },
        "trusted": true,
        "id": "TXie-nw84mKi"
      },
      "execution_count": null,
      "outputs": []
    },
    {
      "cell_type": "code",
      "source": [
        "plt.figure(figsize=(14, 7))\n",
        "sns.barplot(data=merged_df, x='NAME_HOUSING_TYPE', y='Total_Score', hue='INCOME_GROUP', palette='viridis')\n",
        "plt.title('Total_Score by NAME_HOUSING_TYPE and INCOME_GROUP')\n",
        "plt.xlabel('NAME_HOUSING_TYPE')\n",
        "plt.ylabel('Total_Score')\n",
        "plt.legend(title='INCOME_GROUP', bbox_to_anchor=(1.05, 1), loc='upper left')\n",
        "plt.show()"
      ],
      "metadata": {
        "execution": {
          "iopub.status.busy": "2024-08-12T11:21:32.514452Z",
          "iopub.execute_input": "2024-08-12T11:21:32.514857Z",
          "iopub.status.idle": "2024-08-12T11:21:38.584875Z",
          "shell.execute_reply.started": "2024-08-12T11:21:32.514819Z",
          "shell.execute_reply": "2024-08-12T11:21:38.583499Z"
        },
        "trusted": true,
        "id": "AEMTufOY4mKj"
      },
      "execution_count": null,
      "outputs": []
    },
    {
      "cell_type": "code",
      "source": [
        "plt.figure(figsize=(14, 7))\n",
        "sns.barplot(data=merged_df, x='AGE_GROUP', y='Total_Score', hue='TARGET_LABEL', palette='viridis')\n",
        "plt.title('Total_Score by AGE_GROUP and TARGET_LABEL')\n",
        "plt.xlabel('AGE_GROUP')\n",
        "plt.ylabel('Total_Score')\n",
        "plt.legend(title='TARGET_LABEL', bbox_to_anchor=(1.05, 1), loc='upper left')\n",
        "plt.show()"
      ],
      "metadata": {
        "execution": {
          "iopub.status.busy": "2024-08-12T11:21:38.586284Z",
          "iopub.execute_input": "2024-08-12T11:21:38.586831Z",
          "iopub.status.idle": "2024-08-12T11:21:42.106307Z",
          "shell.execute_reply.started": "2024-08-12T11:21:38.586791Z",
          "shell.execute_reply": "2024-08-12T11:21:42.104899Z"
        },
        "trusted": true,
        "id": "_0oPHSY14mKj"
      },
      "execution_count": null,
      "outputs": []
    },
    {
      "cell_type": "code",
      "source": [
        "plt.figure(figsize=(14, 7))\n",
        "sns.barplot(data=merged_df, x='NAME_INCOME_TYPE', y='Total_Score', hue='TARGET_LABEL', palette='viridis')\n",
        "plt.title('Total_Score by NAME_INCOME_TYPE and TARGET_LABEL')\n",
        "plt.xlabel('NAME_INCOME_TYPE')\n",
        "plt.ylabel('Total_Score')\n",
        "plt.legend(title='TARGET_LABEL', bbox_to_anchor=(1.05, 1), loc='upper left')\n",
        "plt.show()"
      ],
      "metadata": {
        "execution": {
          "iopub.status.busy": "2024-08-12T11:21:42.108061Z",
          "iopub.execute_input": "2024-08-12T11:21:42.108543Z",
          "iopub.status.idle": "2024-08-12T11:21:46.283175Z",
          "shell.execute_reply.started": "2024-08-12T11:21:42.108503Z",
          "shell.execute_reply": "2024-08-12T11:21:46.281699Z"
        },
        "trusted": true,
        "id": "F7f8tmCA4mKj"
      },
      "execution_count": null,
      "outputs": []
    },
    {
      "cell_type": "code",
      "source": [
        "plt.figure(figsize=(14, 7))\n",
        "sns.barplot(data=merged_df, x='INCOME_GROUP', y='Total_Score', hue='TARGET_LABEL', palette='viridis')\n",
        "plt.title('Total_Score by INCOME_GROUP and TARGET_LABEL')\n",
        "plt.xlabel('INCOME_GROUP')\n",
        "plt.ylabel('Total_Score')\n",
        "plt.legend(title='TARGET_LABEL', bbox_to_anchor=(1.05, 1), loc='upper left')\n",
        "plt.show()"
      ],
      "metadata": {
        "execution": {
          "iopub.status.busy": "2024-08-12T11:21:46.285043Z",
          "iopub.execute_input": "2024-08-12T11:21:46.285533Z",
          "iopub.status.idle": "2024-08-12T11:21:50.947827Z",
          "shell.execute_reply.started": "2024-08-12T11:21:46.285492Z",
          "shell.execute_reply": "2024-08-12T11:21:50.946322Z"
        },
        "trusted": true,
        "id": "SddE4CFs4mKj"
      },
      "execution_count": null,
      "outputs": []
    },
    {
      "cell_type": "code",
      "source": [
        "plt.figure(figsize=(14, 7))\n",
        "sns.barplot(data=merged_df, x='NAME_HOUSING_TYPE', y='Total_Score', hue='TARGET_LABEL', palette='viridis')\n",
        "plt.title('Total_Score by NAME_HOUSING_TYPE and TARGET_LABEL')\n",
        "plt.xlabel('NAME_HOUSING_TYPE')\n",
        "plt.ylabel('Total_Score')\n",
        "plt.legend(title='TARGET_LABEL', bbox_to_anchor=(1.05, 1), loc='upper left')\n",
        "plt.show()"
      ],
      "metadata": {
        "execution": {
          "iopub.status.busy": "2024-08-12T11:21:50.949351Z",
          "iopub.execute_input": "2024-08-12T11:21:50.949871Z",
          "iopub.status.idle": "2024-08-12T11:21:56.464512Z",
          "shell.execute_reply.started": "2024-08-12T11:21:50.949817Z",
          "shell.execute_reply": "2024-08-12T11:21:56.462967Z"
        },
        "trusted": true,
        "id": "aPqR8D4Z4mKj"
      },
      "execution_count": null,
      "outputs": []
    },
    {
      "cell_type": "markdown",
      "source": [
        "<a id=\"8\"></a>\n",
        "## 8. Data Preprocessing and Splitting"
      ],
      "metadata": {
        "id": "ihxPtO_Q4mKj"
      }
    },
    {
      "cell_type": "code",
      "source": [
        "merged_df.head()"
      ],
      "metadata": {
        "execution": {
          "iopub.status.busy": "2024-08-12T11:21:56.46639Z",
          "iopub.execute_input": "2024-08-12T11:21:56.466925Z",
          "iopub.status.idle": "2024-08-12T11:21:56.506089Z",
          "shell.execute_reply.started": "2024-08-12T11:21:56.466881Z",
          "shell.execute_reply": "2024-08-12T11:21:56.504581Z"
        },
        "trusted": true,
        "id": "JJKvs0zv4mKj"
      },
      "execution_count": null,
      "outputs": []
    },
    {
      "cell_type": "code",
      "source": [
        "merged_df.drop('ID', axis=1, inplace=True)"
      ],
      "metadata": {
        "execution": {
          "iopub.status.busy": "2024-08-12T11:21:56.507916Z",
          "iopub.execute_input": "2024-08-12T11:21:56.508459Z",
          "iopub.status.idle": "2024-08-12T11:21:56.566951Z",
          "shell.execute_reply.started": "2024-08-12T11:21:56.508395Z",
          "shell.execute_reply": "2024-08-12T11:21:56.565495Z"
        },
        "trusted": true,
        "id": "eCjC9jT_4mKj"
      },
      "execution_count": null,
      "outputs": []
    },
    {
      "cell_type": "code",
      "source": [
        "# Drop specified columns and set target variable\n",
        "y = merged_df['TARGET_LABEL']\n",
        "\n",
        "columns_to_drop = ['AGE_GROUP', 'INCOME_GROUP', 'Evaluation_Score', 'Total_Score',\n",
        "                   'Total_Score_SCALED', 'Total_Score_CATEGORY', 'Income_Bin', 'TARGET_LABEL']\n",
        "X = merged_df.drop(columns=columns_to_drop)"
      ],
      "metadata": {
        "execution": {
          "iopub.status.busy": "2024-08-12T11:21:56.568687Z",
          "iopub.execute_input": "2024-08-12T11:21:56.569197Z",
          "iopub.status.idle": "2024-08-12T11:21:56.624515Z",
          "shell.execute_reply.started": "2024-08-12T11:21:56.569149Z",
          "shell.execute_reply": "2024-08-12T11:21:56.623007Z"
        },
        "trusted": true,
        "id": "Q5k2WcYu4mKk"
      },
      "execution_count": null,
      "outputs": []
    },
    {
      "cell_type": "markdown",
      "source": [
        "Identify column types"
      ],
      "metadata": {
        "id": "HtarNFOY4mKk"
      }
    },
    {
      "cell_type": "code",
      "source": [
        "categorical_columns = X.select_dtypes(include=['object']).columns\n",
        "numeric_columns = X.select_dtypes(include=['int64', 'float64']).columns"
      ],
      "metadata": {
        "execution": {
          "iopub.status.busy": "2024-08-12T11:21:56.62632Z",
          "iopub.execute_input": "2024-08-12T11:21:56.627319Z",
          "iopub.status.idle": "2024-08-12T11:21:56.696125Z",
          "shell.execute_reply.started": "2024-08-12T11:21:56.627273Z",
          "shell.execute_reply": "2024-08-12T11:21:56.694998Z"
        },
        "trusted": true,
        "id": "gAcAmomA4mKk"
      },
      "execution_count": null,
      "outputs": []
    },
    {
      "cell_type": "code",
      "source": [
        "def process_categorical(df, column):\n",
        "    unique_values = df[column].unique()\n",
        "\n",
        "    if len(unique_values) == 2:\n",
        "        # Create single column for binary variables\n",
        "        return pd.DataFrame({column: (df[column] == unique_values[0]).astype(int)})\n",
        "    else:\n",
        "        # Apply one-hot encoding for multi-category variables\n",
        "        dummies = pd.get_dummies(df[column], prefix=column, dtype=int)\n",
        "\n",
        "        # Convert column names to original format\n",
        "        new_column_names = {col: f\"{column}_{val}\" for col, val in\n",
        "                            zip(dummies.columns, unique_values)}\n",
        "        dummies.rename(columns=new_column_names, inplace=True)\n",
        "\n",
        "        return dummies"
      ],
      "metadata": {
        "execution": {
          "iopub.status.busy": "2024-08-12T11:21:56.697756Z",
          "iopub.execute_input": "2024-08-12T11:21:56.698263Z",
          "iopub.status.idle": "2024-08-12T11:21:56.708348Z",
          "shell.execute_reply.started": "2024-08-12T11:21:56.69822Z",
          "shell.execute_reply": "2024-08-12T11:21:56.70666Z"
        },
        "trusted": true,
        "id": "EDjaFQ4G4mKk"
      },
      "execution_count": null,
      "outputs": []
    },
    {
      "cell_type": "code",
      "source": [
        "# Handle categorical variables\n",
        "categorical_encoded = pd.concat([process_categorical(X, col) for col in categorical_columns], axis=1)"
      ],
      "metadata": {
        "execution": {
          "iopub.status.busy": "2024-08-12T11:21:56.710363Z",
          "iopub.execute_input": "2024-08-12T11:21:56.710933Z",
          "iopub.status.idle": "2024-08-12T11:21:57.65444Z",
          "shell.execute_reply.started": "2024-08-12T11:21:56.71088Z",
          "shell.execute_reply": "2024-08-12T11:21:57.653213Z"
        },
        "trusted": true,
        "id": "DD4R-IoN4mKk"
      },
      "execution_count": null,
      "outputs": []
    },
    {
      "cell_type": "code",
      "source": [
        "categorical_encoded.head()"
      ],
      "metadata": {
        "execution": {
          "iopub.status.busy": "2024-08-12T11:21:57.655878Z",
          "iopub.execute_input": "2024-08-12T11:21:57.65625Z",
          "iopub.status.idle": "2024-08-12T11:21:57.683827Z",
          "shell.execute_reply.started": "2024-08-12T11:21:57.656219Z",
          "shell.execute_reply": "2024-08-12T11:21:57.682493Z"
        },
        "trusted": true,
        "id": "JFMMgDjU4mKk"
      },
      "execution_count": null,
      "outputs": []
    },
    {
      "cell_type": "markdown",
      "source": [
        "Fit and transform the data"
      ],
      "metadata": {
        "id": "e2bMlrRQ4mKk"
      }
    },
    {
      "cell_type": "code",
      "source": [
        "# Normalize numeric variables\n",
        "scaler = StandardScaler()\n",
        "numeric_normalized = pd.DataFrame(scaler.fit_transform(X[numeric_columns]),\n",
        "                                  columns=numeric_columns,\n",
        "                                  index=X.index)\n",
        "\n",
        "categorical_normalized = pd.DataFrame(scaler.fit_transform(categorical_encoded[categorical_encoded.columns]),\n",
        "                                      columns=categorical_encoded.columns,\n",
        "                                      index=X.index)\n",
        "# Combine processed data\n",
        "processed_features = pd.concat([categorical_normalized, numeric_normalized], axis=1)"
      ],
      "metadata": {
        "execution": {
          "iopub.status.busy": "2024-08-12T11:21:57.692559Z",
          "iopub.execute_input": "2024-08-12T11:21:57.692982Z",
          "iopub.status.idle": "2024-08-12T11:21:58.398492Z",
          "shell.execute_reply.started": "2024-08-12T11:21:57.692951Z",
          "shell.execute_reply": "2024-08-12T11:21:58.39713Z"
        },
        "trusted": true,
        "id": "QOMXu9s_4mKk"
      },
      "execution_count": null,
      "outputs": []
    },
    {
      "cell_type": "code",
      "source": [
        "processed_features.head()"
      ],
      "metadata": {
        "execution": {
          "iopub.status.busy": "2024-08-12T11:21:58.399835Z",
          "iopub.execute_input": "2024-08-12T11:21:58.400232Z",
          "iopub.status.idle": "2024-08-12T11:21:58.433512Z",
          "shell.execute_reply.started": "2024-08-12T11:21:58.400201Z",
          "shell.execute_reply": "2024-08-12T11:21:58.431878Z"
        },
        "trusted": true,
        "id": "fEHt8XGo4mKk"
      },
      "execution_count": null,
      "outputs": []
    },
    {
      "cell_type": "markdown",
      "source": [
        "Split the data"
      ],
      "metadata": {
        "id": "JAPHz4Xy4mKk"
      }
    },
    {
      "cell_type": "code",
      "source": [
        "X_train, X_test, y_train, y_test = train_test_split(processed_features, y, test_size=0.2, random_state=42)"
      ],
      "metadata": {
        "execution": {
          "iopub.status.busy": "2024-08-12T11:21:58.435327Z",
          "iopub.execute_input": "2024-08-12T11:21:58.435864Z",
          "iopub.status.idle": "2024-08-12T11:21:58.685954Z",
          "shell.execute_reply.started": "2024-08-12T11:21:58.435813Z",
          "shell.execute_reply": "2024-08-12T11:21:58.684872Z"
        },
        "trusted": true,
        "id": "j87XVOug4mKl"
      },
      "execution_count": null,
      "outputs": []
    },
    {
      "cell_type": "markdown",
      "source": [
        "<a id=\"9\"></a>\n",
        "## 9. Model Training and Evaluation"
      ],
      "metadata": {
        "id": "hFBRDpEM4mKl"
      }
    },
    {
      "cell_type": "markdown",
      "source": [
        "Model Selection"
      ],
      "metadata": {
        "id": "4bIumBnu4mKl"
      }
    },
    {
      "cell_type": "code",
      "source": [
        "from sklearn.base import clone\n",
        "from joblib import Parallel, delayed"
      ],
      "metadata": {
        "execution": {
          "iopub.status.busy": "2024-08-12T11:21:58.687244Z",
          "iopub.execute_input": "2024-08-12T11:21:58.68761Z",
          "iopub.status.idle": "2024-08-12T11:21:58.69337Z",
          "shell.execute_reply.started": "2024-08-12T11:21:58.687581Z",
          "shell.execute_reply": "2024-08-12T11:21:58.691995Z"
        },
        "trusted": true,
        "id": "JR5V06Ys4mKl"
      },
      "execution_count": null,
      "outputs": []
    },
    {
      "cell_type": "code",
      "source": [
        "def evaluate_model(model, name, X_train, y_train, X_test, y_test):\n",
        "    \"\"\"Evaluate a single model\"\"\"\n",
        "    model = clone(model)\n",
        "    model.fit(X_train, y_train)\n",
        "    y_pred = model.predict(X_test)\n",
        "    accuracy = accuracy_score(y_test, y_pred)\n",
        "    report = classification_report(y_test, y_pred, output_dict=True)\n",
        "    return name, model, accuracy, report\n",
        "\n",
        "def train_evaluate_model(models, X_train, y_train, X_test, y_test, n_jobs=-1):\n",
        "    \"\"\"\n",
        "    Train and evaluate multiple models in parallel.\n",
        "\n",
        "    Parameters:\n",
        "    models (dict): A dictionary of model names and their corresponding instances.\n",
        "    X_train (array-like): Training features.\n",
        "    y_train (array-like): Training labels.\n",
        "    X_test (array-like): Test features.\n",
        "    y_test (array-like): Test labels.\n",
        "    n_jobs (int): Number of jobs to run in parallel. -1 means using all processors.\n",
        "\n",
        "    Returns:\n",
        "    dict: A dictionary containing evaluation results for each model.\n",
        "    \"\"\"\n",
        "    results = Parallel(n_jobs=n_jobs)(\n",
        "        delayed(evaluate_model)(model, name, X_train, y_train, X_test, y_test)\n",
        "        for name, model in models.items()\n",
        "    )\n",
        "\n",
        "    results_dict = {}\n",
        "    for name, model, accuracy, report in results:\n",
        "        results_dict[name] = {\n",
        "            'model': model,\n",
        "            'accuracy': accuracy,\n",
        "            'classification_report': report\n",
        "        }\n",
        "        print(f\"\\n{name} Results:\")\n",
        "        print(f\"Accuracy: {accuracy:.4f}\")\n",
        "        print(\"Classification Report:\")\n",
        "        print(classification_report(y_test, model.predict(X_test)))\n",
        "\n",
        "    return results_dict"
      ],
      "metadata": {
        "execution": {
          "iopub.status.busy": "2024-08-12T11:21:58.695064Z",
          "iopub.execute_input": "2024-08-12T11:21:58.695401Z",
          "iopub.status.idle": "2024-08-12T11:21:58.709741Z",
          "shell.execute_reply.started": "2024-08-12T11:21:58.695374Z",
          "shell.execute_reply": "2024-08-12T11:21:58.708526Z"
        },
        "trusted": true,
        "id": "1HPzITAg4mKl"
      },
      "execution_count": null,
      "outputs": []
    },
    {
      "cell_type": "code",
      "source": [
        "# Create a dictionary of models\n",
        "models = {\n",
        "    'Linear SVC': LinearSVC(random_state=42),\n",
        "    'Naive Bayes': GaussianNB(),\n",
        "    'KNeighbors': KNeighborsClassifier(),\n",
        "    'Random Forest': RandomForestClassifier(random_state=42),\n",
        "    'Gradient Boosting': GradientBoostingClassifier(random_state=42),\n",
        "    'Light GBM': lgb.LGBMClassifier(random_state=42),\n",
        "    'XGB Classifier': xgb.XGBClassifier(random_state=42),\n",
        "}"
      ],
      "metadata": {
        "execution": {
          "iopub.status.busy": "2024-08-12T11:21:58.711574Z",
          "iopub.execute_input": "2024-08-12T11:21:58.712072Z",
          "iopub.status.idle": "2024-08-12T11:21:58.727498Z",
          "shell.execute_reply.started": "2024-08-12T11:21:58.712025Z",
          "shell.execute_reply": "2024-08-12T11:21:58.726347Z"
        },
        "trusted": true,
        "id": "so6FKQ4i4mKl"
      },
      "execution_count": null,
      "outputs": []
    },
    {
      "cell_type": "code",
      "source": [
        "results = train_evaluate_model(models, X_train, y_train, X_test, y_test)"
      ],
      "metadata": {
        "execution": {
          "iopub.status.busy": "2024-08-12T11:21:58.728973Z",
          "iopub.execute_input": "2024-08-12T11:21:58.72937Z",
          "iopub.status.idle": "2024-08-12T11:29:38.925224Z",
          "shell.execute_reply.started": "2024-08-12T11:21:58.729326Z",
          "shell.execute_reply": "2024-08-12T11:29:38.92366Z"
        },
        "trusted": true,
        "id": "MXKtk0YM4mKl"
      },
      "execution_count": null,
      "outputs": []
    },
    {
      "cell_type": "markdown",
      "source": [
        "**Calculating Class Weights for an Imbalanced Dataset**\n",
        "\n",
        "To improve the performance of our classification models and address the class imbalance in the dataset, we will calculate the weights for each class. This will give more importance to the minority class, allowing the model to learn more balanced."
      ],
      "metadata": {
        "id": "fVGt_9TM4mKl"
      }
    },
    {
      "cell_type": "code",
      "source": [
        "class_weights = compute_class_weight('balanced', classes=np.unique(y_train), y=y_train)\n",
        "class_weight_dict = dict(zip(np.unique(y_train), class_weights))\n",
        "\n",
        "print(\"Class Weights:\", class_weight_dict)"
      ],
      "metadata": {
        "execution": {
          "iopub.status.busy": "2024-08-12T11:29:38.927262Z",
          "iopub.execute_input": "2024-08-12T11:29:38.927757Z",
          "iopub.status.idle": "2024-08-12T11:29:39.052147Z",
          "shell.execute_reply.started": "2024-08-12T11:29:38.927709Z",
          "shell.execute_reply": "2024-08-12T11:29:39.050733Z"
        },
        "trusted": true,
        "id": "8ttTlSD44mKm"
      },
      "execution_count": null,
      "outputs": []
    },
    {
      "cell_type": "code",
      "source": [
        "# Update models\n",
        "models = {\n",
        "    'Light GBM': lgb.LGBMClassifier(class_weight=class_weight_dict),\n",
        "    'XGB Classifier': xgb.XGBClassifier(scale_pos_weight=class_weight_dict[1]/class_weight_dict[0]),\n",
        "}"
      ],
      "metadata": {
        "execution": {
          "iopub.status.busy": "2024-08-12T11:29:39.0538Z",
          "iopub.execute_input": "2024-08-12T11:29:39.054309Z",
          "iopub.status.idle": "2024-08-12T11:29:39.065191Z",
          "shell.execute_reply.started": "2024-08-12T11:29:39.054255Z",
          "shell.execute_reply": "2024-08-12T11:29:39.063776Z"
        },
        "trusted": true,
        "id": "HLdjskbq4mKm"
      },
      "execution_count": null,
      "outputs": []
    },
    {
      "cell_type": "code",
      "source": [
        "results = train_evaluate_model(models, X_train, y_train, X_test, y_test)"
      ],
      "metadata": {
        "execution": {
          "iopub.status.busy": "2024-08-12T11:29:39.067033Z",
          "iopub.execute_input": "2024-08-12T11:29:39.068685Z",
          "iopub.status.idle": "2024-08-12T11:30:02.765276Z",
          "shell.execute_reply.started": "2024-08-12T11:29:39.068633Z",
          "shell.execute_reply": "2024-08-12T11:30:02.763542Z"
        },
        "trusted": true,
        "id": "Lhw3BuI64mKm"
      },
      "execution_count": null,
      "outputs": []
    },
    {
      "cell_type": "markdown",
      "source": [
        "<a id=\"10\"></a>\n",
        "## 10. Future Extraction and Importance"
      ],
      "metadata": {
        "id": "GPGF4-Li4mKm"
      }
    },
    {
      "cell_type": "code",
      "source": [
        "print(\"Number of features:\", X.shape[1])\n",
        "print(\"\\nFeature names:\")\n",
        "print(X.columns.tolist())\n",
        "\n",
        "print(\"\\nNumerical features:\")\n",
        "print(numeric_columns.tolist())\n",
        "print(\"\\nCategorical features:\")\n",
        "print(categorical_columns.tolist())\n",
        "\n",
        "# Display statistics of numeric features\n",
        "print(\"\\nNumerical features:\")\n",
        "print(X[numeric_columns].describe())\n",
        "\n",
        "# Display unique values of categorical features\n",
        "print(\"\\nUnique values of categorical features:\")\n",
        "for feature in categorical_columns:\n",
        "    print(f\"{feature}: {X[feature].nunique()}\")"
      ],
      "metadata": {
        "execution": {
          "iopub.status.busy": "2024-08-12T11:30:02.767026Z",
          "iopub.execute_input": "2024-08-12T11:30:02.767445Z",
          "iopub.status.idle": "2024-08-12T11:30:03.225276Z",
          "shell.execute_reply.started": "2024-08-12T11:30:02.767384Z",
          "shell.execute_reply": "2024-08-12T11:30:03.22405Z"
        },
        "trusted": true,
        "id": "pUA3jSvb4mKm"
      },
      "execution_count": null,
      "outputs": []
    },
    {
      "cell_type": "code",
      "source": [
        "# Let's create new features\n",
        "X['INCOME_AGE_RATIO'] = X['AMT_INCOME_TOTAL'] / X['AGE']\n",
        "X['EMPLOYMENT_RATIO'] = X['MONTHS_EMPLOYED'] / (X['AGE'] * 12)"
      ],
      "metadata": {
        "execution": {
          "iopub.status.busy": "2024-08-12T11:30:03.226741Z",
          "iopub.execute_input": "2024-08-12T11:30:03.227174Z",
          "iopub.status.idle": "2024-08-12T11:30:03.24105Z",
          "shell.execute_reply.started": "2024-08-12T11:30:03.227142Z",
          "shell.execute_reply": "2024-08-12T11:30:03.239521Z"
        },
        "trusted": true,
        "id": "KWTRxcG74mKm"
      },
      "execution_count": null,
      "outputs": []
    },
    {
      "cell_type": "code",
      "source": [
        "numeric_columns = X.select_dtypes(include=['int64', 'float64']).columns\n",
        "numeric_columns"
      ],
      "metadata": {
        "execution": {
          "iopub.status.busy": "2024-08-12T11:30:03.242441Z",
          "iopub.execute_input": "2024-08-12T11:30:03.242961Z",
          "iopub.status.idle": "2024-08-12T11:30:03.277213Z",
          "shell.execute_reply.started": "2024-08-12T11:30:03.242926Z",
          "shell.execute_reply": "2024-08-12T11:30:03.27575Z"
        },
        "trusted": true,
        "id": "lFW0Ey4R4mKm"
      },
      "execution_count": null,
      "outputs": []
    },
    {
      "cell_type": "code",
      "source": [
        "# Handle categorical variables\n",
        "categorical_encoded = pd.concat([process_categorical(X, col) for col in categorical_columns], axis=1)\n",
        "# Normalize numeric variables\n",
        "scaler = StandardScaler()\n",
        "numeric_normalized = pd.DataFrame(scaler.fit_transform(X[numeric_columns]),\n",
        "                                  columns=numeric_columns,\n",
        "                                  index=X.index)\n",
        "\n",
        "categorical_normalized = pd.DataFrame(scaler.fit_transform(categorical_encoded[categorical_encoded.columns]),\n",
        "                                      columns=categorical_encoded.columns,\n",
        "                                      index=X.index)\n",
        "# Combine processed data\n",
        "processed_features = pd.concat([categorical_normalized, numeric_normalized], axis=1)\n",
        "X_train, X_test, y_train, y_test = train_test_split(processed_features, y, test_size=0.2, random_state=42)"
      ],
      "metadata": {
        "execution": {
          "iopub.status.busy": "2024-08-12T11:30:03.279093Z",
          "iopub.execute_input": "2024-08-12T11:30:03.279485Z",
          "iopub.status.idle": "2024-08-12T11:30:05.18511Z",
          "shell.execute_reply.started": "2024-08-12T11:30:03.279453Z",
          "shell.execute_reply": "2024-08-12T11:30:05.183912Z"
        },
        "trusted": true,
        "id": "ajWvLk234mKm"
      },
      "execution_count": null,
      "outputs": []
    },
    {
      "cell_type": "code",
      "source": [
        "models = {\n",
        "    'Gradient Boosting': GradientBoostingClassifier(random_state=42),\n",
        "    'Light GBM': lgb.LGBMClassifier(class_weight=class_weight_dict),\n",
        "    'XGB Classifier': xgb.XGBClassifier(scale_pos_weight=class_weight_dict[1]/class_weight_dict[0])\n",
        "}"
      ],
      "metadata": {
        "execution": {
          "iopub.status.busy": "2024-08-12T11:30:05.189381Z",
          "iopub.execute_input": "2024-08-12T11:30:05.18994Z",
          "iopub.status.idle": "2024-08-12T11:30:05.197403Z",
          "shell.execute_reply.started": "2024-08-12T11:30:05.189863Z",
          "shell.execute_reply": "2024-08-12T11:30:05.196036Z"
        },
        "trusted": true,
        "id": "PQfP_yoS4mKn"
      },
      "execution_count": null,
      "outputs": []
    },
    {
      "cell_type": "code",
      "source": [
        "results = train_evaluate_model(models, X_train, y_train, X_test, y_test)"
      ],
      "metadata": {
        "execution": {
          "iopub.status.busy": "2024-08-12T11:30:05.199063Z",
          "iopub.execute_input": "2024-08-12T11:30:05.199575Z",
          "iopub.status.idle": "2024-08-12T11:32:04.837727Z",
          "shell.execute_reply.started": "2024-08-12T11:30:05.199533Z",
          "shell.execute_reply": "2024-08-12T11:32:04.836186Z"
        },
        "trusted": true,
        "id": "jP5X2kt34mKn"
      },
      "execution_count": null,
      "outputs": []
    },
    {
      "cell_type": "markdown",
      "source": [
        "Feature Importance"
      ],
      "metadata": {
        "id": "3UfcljeX4mKn"
      }
    },
    {
      "cell_type": "code",
      "source": [
        "# Calculating feature importance levels with Random Forest\n",
        "rf = RandomForestClassifier(n_estimators=100, random_state=42)\n",
        "rf.fit(X_train, y_train)"
      ],
      "metadata": {
        "execution": {
          "iopub.status.busy": "2024-08-12T11:32:04.83934Z",
          "iopub.execute_input": "2024-08-12T11:32:04.83972Z",
          "iopub.status.idle": "2024-08-12T11:34:39.507784Z",
          "shell.execute_reply.started": "2024-08-12T11:32:04.83969Z",
          "shell.execute_reply": "2024-08-12T11:34:39.506499Z"
        },
        "trusted": true,
        "id": "BLHnSpVm4mKn"
      },
      "execution_count": null,
      "outputs": []
    },
    {
      "cell_type": "code",
      "source": [
        "# Display feature importance levels\n",
        "feature_importance = pd.DataFrame({'feature': X_train.columns, 'importance': rf.feature_importances_})\n",
        "feature_importance = feature_importance.sort_values('importance', ascending=False)\n",
        "print(\"The 20 most important features:\")\n",
        "print(feature_importance.head(20))"
      ],
      "metadata": {
        "execution": {
          "iopub.status.busy": "2024-08-12T11:34:39.509604Z",
          "iopub.execute_input": "2024-08-12T11:34:39.510091Z",
          "iopub.status.idle": "2024-08-12T11:34:39.716176Z",
          "shell.execute_reply.started": "2024-08-12T11:34:39.510051Z",
          "shell.execute_reply": "2024-08-12T11:34:39.714819Z"
        },
        "trusted": true,
        "id": "hJIwf6XV4mKn"
      },
      "execution_count": null,
      "outputs": []
    },
    {
      "cell_type": "code",
      "source": [
        "# Selecting the most important features (e.g. until the total importance exceeds 0.95)\n",
        "cumulative_importance = 0\n",
        "important_features = []\n",
        "for idx, row in feature_importance.iterrows():\n",
        "    important_features.append(row['feature'])\n",
        "    cumulative_importance += row['importance']\n",
        "    if cumulative_importance > 0.95:\n",
        "        break\n",
        "\n",
        "print(f\"\\nNumber of selected features: {len(important_features)}\")\n",
        "print(\"Selected features:\")\n",
        "print(important_features)"
      ],
      "metadata": {
        "execution": {
          "iopub.status.busy": "2024-08-12T11:34:39.717937Z",
          "iopub.execute_input": "2024-08-12T11:34:39.718477Z",
          "iopub.status.idle": "2024-08-12T11:34:39.735751Z",
          "shell.execute_reply.started": "2024-08-12T11:34:39.718414Z",
          "shell.execute_reply": "2024-08-12T11:34:39.734468Z"
        },
        "trusted": true,
        "id": "LesT5WEg4mKn"
      },
      "execution_count": null,
      "outputs": []
    },
    {
      "cell_type": "code",
      "source": [
        "# Creating new datasets with selected features\n",
        "X_train_selected = X_train[important_features]\n",
        "X_test_selected = X_test[important_features]"
      ],
      "metadata": {
        "execution": {
          "iopub.status.busy": "2024-08-12T11:34:39.737334Z",
          "iopub.execute_input": "2024-08-12T11:34:39.738214Z",
          "iopub.status.idle": "2024-08-12T11:34:39.783019Z",
          "shell.execute_reply.started": "2024-08-12T11:34:39.738181Z",
          "shell.execute_reply": "2024-08-12T11:34:39.781766Z"
        },
        "trusted": true,
        "id": "_r6DVHw74mKn"
      },
      "execution_count": null,
      "outputs": []
    },
    {
      "cell_type": "code",
      "source": [
        "results = train_evaluate_model(models, X_train_selected, y_train, X_test_selected, y_test)"
      ],
      "metadata": {
        "execution": {
          "iopub.status.busy": "2024-08-12T11:34:39.784602Z",
          "iopub.execute_input": "2024-08-12T11:34:39.785018Z",
          "iopub.status.idle": "2024-08-12T11:36:14.772167Z",
          "shell.execute_reply.started": "2024-08-12T11:34:39.784987Z",
          "shell.execute_reply": "2024-08-12T11:36:14.770416Z"
        },
        "trusted": true,
        "id": "c0kDuUGM4mKn"
      },
      "execution_count": null,
      "outputs": []
    },
    {
      "cell_type": "markdown",
      "source": [
        "<a id=\"11\"></a>\n",
        "## 11. Hyperparameter Tuning and Optimization for LightGBM ve Gradient Boosting"
      ],
      "metadata": {
        "id": "5Ppp5Sa44mKn"
      }
    },
    {
      "cell_type": "code",
      "source": [
        "from joblib import parallel_backend\n",
        "from sklearn.model_selection import PredefinedSplit\n",
        "from sklearn.metrics import make_scorer, log_loss"
      ],
      "metadata": {
        "execution": {
          "iopub.status.busy": "2024-08-12T11:36:14.774058Z",
          "iopub.execute_input": "2024-08-12T11:36:14.774473Z",
          "iopub.status.idle": "2024-08-12T11:36:14.781065Z",
          "shell.execute_reply.started": "2024-08-12T11:36:14.774423Z",
          "shell.execute_reply": "2024-08-12T11:36:14.779549Z"
        },
        "trusted": true,
        "id": "zb4GJLmK4mKo"
      },
      "execution_count": null,
      "outputs": []
    },
    {
      "cell_type": "code",
      "source": [
        "X_train, X_test, y_train, y_test = train_test_split(processed_features, y, test_size=0.2, random_state=42)"
      ],
      "metadata": {
        "execution": {
          "iopub.status.busy": "2024-08-12T11:36:14.782969Z",
          "iopub.execute_input": "2024-08-12T11:36:14.783374Z",
          "iopub.status.idle": "2024-08-12T11:36:15.056125Z",
          "shell.execute_reply.started": "2024-08-12T11:36:14.783344Z",
          "shell.execute_reply": "2024-08-12T11:36:15.054461Z"
        },
        "trusted": true,
        "id": "WOrAw11_4mKo"
      },
      "execution_count": null,
      "outputs": []
    },
    {
      "cell_type": "code",
      "source": [
        "models = {\n",
        "    'Gradient Boosting': GradientBoostingClassifier(random_state=42),\n",
        "    'Light GBM': lgb.LGBMClassifier(\n",
        "        class_weight=class_weight_dict,\n",
        "        random_state=42,\n",
        "        n_jobs=-1,  # Use all CPU cores\n",
        "        importance_type='gain',  # For better feature importance\n",
        "        verbose=-1\n",
        "    ),\n",
        "    'XGB Classifier': xgb.XGBClassifier(\n",
        "    random_state=42,\n",
        "    eval_metric='logloss',\n",
        "    scale_pos_weight=class_weight_dict[1]/class_weight_dict[0],\n",
        "    enable_categorical=True  # To automatically process categorical features\n",
        "    )\n",
        "}"
      ],
      "metadata": {
        "execution": {
          "iopub.status.busy": "2024-08-12T15:15:12.914983Z",
          "iopub.execute_input": "2024-08-12T15:15:12.915659Z",
          "iopub.status.idle": "2024-08-12T15:15:12.925087Z",
          "shell.execute_reply.started": "2024-08-12T15:15:12.9156Z",
          "shell.execute_reply": "2024-08-12T15:15:12.923442Z"
        },
        "trusted": true,
        "id": "5VCuNLSw4mKo"
      },
      "execution_count": null,
      "outputs": []
    },
    {
      "cell_type": "code",
      "source": [
        "def train_evaluate_with_hyperopt(models, param_dists, X_train, y_train, X_test, y_test, n_iter=30, cv=3, n_jobs=-1):\n",
        "    \"\"\"\n",
        "    Train and evaluate models with hyperparameter optimization.\n",
        "\n",
        "    Parameters:\n",
        "    models (dict): A dictionary of model names and their corresponding instances.\n",
        "    param_dists (dict): A dictionary of hyperparameter distributions for each model.\n",
        "    X_train (array-like): Training features.\n",
        "    y_train (array-like): Training labels.\n",
        "    X_test (array-like): Test features.\n",
        "    y_test (array-like): Test labels.\n",
        "    n_iter (int): Number of parameter settings sampled in RandomizedSearchCV.\n",
        "    cv (int): Number of cross-validation folds.\n",
        "    n_jobs (int): Number of jobs to run in parallel.\n",
        "\n",
        "    Returns:\n",
        "    dict: A dictionary containing evaluation results and best models for each model type.\n",
        "    \"\"\"\n",
        "    results = {}\n",
        "    best_models = {}\n",
        "\n",
        "    # Use F1 score as the scoring metric\n",
        "    f1_scorer = make_scorer(f1_score, average='weighted')\n",
        "\n",
        "    for name, model in models.items():\n",
        "        print(f\"\\nOptimizing {name}...\")\n",
        "\n",
        "        with parallel_backend('threading', n_jobs=n_jobs):\n",
        "            random_search = RandomizedSearchCV(\n",
        "                model,\n",
        "                param_distributions=param_dists[name],\n",
        "                n_iter=n_iter,\n",
        "                cv=cv,\n",
        "                scoring=f1_scorer,\n",
        "                n_jobs=1,  # Use 1 here because we're using parallel_backend\n",
        "                random_state=42\n",
        "            )\n",
        "\n",
        "            random_search.fit(X_train, y_train)\n",
        "\n",
        "        best_model = random_search.best_estimator_\n",
        "        best_models[name] = best_model\n",
        "\n",
        "        y_pred = best_model.predict(X_test)\n",
        "\n",
        "        accuracy = accuracy_score(y_test, y_pred)\n",
        "        f1 = f1_score(y_test, y_pred, average='weighted')\n",
        "        report = classification_report(y_test, y_pred, output_dict=True)\n",
        "\n",
        "        results[name] = {\n",
        "            'best_model': best_model,\n",
        "            'best_params': random_search.best_params_,\n",
        "            'accuracy': accuracy,\n",
        "            'f1_score': f1,\n",
        "            'classification_report': report\n",
        "        }\n",
        "\n",
        "        print(f\"\\n{name} Results:\")\n",
        "        print(f\"Best Parameters: {random_search.best_params_}\")\n",
        "        print(f\"Accuracy: {accuracy:.4f}\")\n",
        "        print(f\"F1 Score: {f1:.4f}\")\n",
        "        print(\"Classification Report:\")\n",
        "        print(classification_report(y_test, y_pred))\n",
        "\n",
        "    return results, best_models"
      ],
      "metadata": {
        "execution": {
          "iopub.status.busy": "2024-08-12T15:15:14.167676Z",
          "iopub.execute_input": "2024-08-12T15:15:14.169152Z",
          "iopub.status.idle": "2024-08-12T15:15:14.186913Z",
          "shell.execute_reply.started": "2024-08-12T15:15:14.169098Z",
          "shell.execute_reply": "2024-08-12T15:15:14.185512Z"
        },
        "trusted": true,
        "id": "CmFbaxvx4mKo"
      },
      "execution_count": null,
      "outputs": []
    },
    {
      "cell_type": "code",
      "source": [
        "# Hiperparametre dağılımları\n",
        "gb_param_dist = {\n",
        "    'n_estimators': [100, 200],\n",
        "    'max_depth': [3, 5],\n",
        "    'learning_rate': [0.01, 0.1],\n",
        "    'min_samples_split': [2, 5],\n",
        "    'min_samples_leaf': [1, 2],\n",
        "    'subsample': [0.8, 1.0],\n",
        "    'max_features': ['sqrt', 'log2']\n",
        "}\n",
        "\n",
        "lgbm_param_dist = {\n",
        "    'n_estimators': [100, 200],\n",
        "    'num_leaves': [31, 6],  # Larger values for better accuracy, but not too large\n",
        "    'max_depth': [5, 7],  # Limit depth to prevent overfitting\n",
        "    'learning_rate': [0.05, 0.1],  # Smaller learning rates\n",
        "    'feature_fraction': [0.8, 0.9],  # Feature subsampling to prevent overfitting\n",
        "    'min_child_samples': [20, 50],  # Prevent overfitting on small leaves\n",
        "    'lambda_l1': [0, 1.0],  # L1 regularization\n",
        "    'lambda_l2': [0, 1.0],  # L2 regularization\n",
        "    'boosting_type': ['gbdt', 'dart'],  # Try both gbdt and dart\n",
        "}\n",
        "\n",
        "xgb_param_dist = {\n",
        "    'n_estimators': [100, 200],\n",
        "    'max_depth': [3, 5],\n",
        "    'learning_rate': [0.01, 0.1],\n",
        "    'min_child_weight': [1, 3],\n",
        "    'subsample': [0.8, 1.0],\n",
        "    'colsample_bytree': [0.8, 1.0],\n",
        "    'gamma': [0, 0.1],\n",
        "    'reg_alpha': [0, 0.1],\n",
        "    'reg_lambda': [0, 0.1]\n",
        "}\n",
        "\n",
        "param_dists = {\n",
        "    'Gradient Boosting': gb_param_dist,\n",
        "    'Light GBM': lgbm_param_dist,\n",
        "    'XGB Classifier': xgb_param_dist\n",
        "}"
      ],
      "metadata": {
        "execution": {
          "iopub.status.busy": "2024-08-12T15:15:14.410892Z",
          "iopub.execute_input": "2024-08-12T15:15:14.412121Z",
          "iopub.status.idle": "2024-08-12T15:15:14.427264Z",
          "shell.execute_reply.started": "2024-08-12T15:15:14.412062Z",
          "shell.execute_reply": "2024-08-12T15:15:14.425685Z"
        },
        "trusted": true,
        "id": "1ZgRE4YZ4mKo"
      },
      "execution_count": null,
      "outputs": []
    },
    {
      "cell_type": "code",
      "source": [
        "# Call func\n",
        "results, best_models = train_evaluate_with_hyperopt(models, param_dists, X_train, y_train, X_test, y_test)"
      ],
      "metadata": {
        "execution": {
          "iopub.status.busy": "2024-08-12T15:15:15.200862Z",
          "iopub.execute_input": "2024-08-12T15:15:15.201285Z",
          "iopub.status.idle": "2024-08-12T16:31:20.660876Z",
          "shell.execute_reply.started": "2024-08-12T15:15:15.201254Z",
          "shell.execute_reply": "2024-08-12T16:31:20.659004Z"
        },
        "trusted": true,
        "id": "XPpfquDQ4mKo"
      },
      "execution_count": null,
      "outputs": []
    },
    {
      "cell_type": "code",
      "source": [
        "# Get best models\n",
        "best_lgbm = best_models.get('Light GBM')\n",
        "best_gb = best_models.get('Gradient Boosting')\n",
        "best_xgb = best_models.get('XGB Classifier')"
      ],
      "metadata": {
        "execution": {
          "iopub.status.busy": "2024-08-12T16:31:20.672257Z",
          "iopub.execute_input": "2024-08-12T16:31:20.672661Z",
          "iopub.status.idle": "2024-08-12T16:31:20.68527Z",
          "shell.execute_reply.started": "2024-08-12T16:31:20.672627Z",
          "shell.execute_reply": "2024-08-12T16:31:20.683688Z"
        },
        "trusted": true,
        "id": "yIGH3pqo4mKp"
      },
      "execution_count": null,
      "outputs": []
    },
    {
      "cell_type": "markdown",
      "source": [
        "<a id=\"12\"></a>\n",
        "## 12. Ensemble Methods"
      ],
      "metadata": {
        "id": "3iQ-gNCJ4mKp"
      }
    },
    {
      "cell_type": "code",
      "source": [
        "# Weighted Voting\n",
        "voting_clf = VotingClassifier(\n",
        "    estimators=[('lgbm', best_lgbm), ('xgb', best_xgb)],\n",
        "    voting='soft',\n",
        "    weights=[1, 1]\n",
        ")\n",
        "\n",
        "stacking_clf = StackingClassifier(\n",
        "    estimators=[('lgbm', best_lgbm), ('xgb', best_xgb)],\n",
        "    final_estimator=LogisticRegression(),\n",
        "    cv=5\n",
        ")\n",
        "\n",
        "# Compare both ensemble methods\n",
        "voting_scores = cross_val_score(voting_clf, X_train, y_train, cv=3, scoring='f1_weighted', n_jobs=-1)\n",
        "stacking_scores = cross_val_score(stacking_clf, X_train, y_train, cv=3, scoring='f1_weighted', n_jobs=-1)\n",
        "\n",
        "print(\"Weighted Voting mean F1 score:\", voting_scores.mean())\n",
        "print(\"Stacking mean F1 score:\", stacking_scores.mean())\n",
        "\n",
        "# Choose and train the best ensemble method\n",
        "if voting_scores.mean() > stacking_scores.mean():\n",
        "    best_ensemble = voting_clf\n",
        "    print(\"Weighted Voting is better\")\n",
        "else:\n",
        "    best_ensemble = stacking_clf\n",
        "    print(\"Stacking is better\")\n",
        "\n",
        "best_ensemble.fit(X_train, y_train)"
      ],
      "metadata": {
        "execution": {
          "iopub.status.busy": "2024-08-12T16:31:20.688798Z",
          "iopub.execute_input": "2024-08-12T16:31:20.689593Z",
          "iopub.status.idle": "2024-08-12T16:38:01.710924Z",
          "shell.execute_reply.started": "2024-08-12T16:31:20.689555Z",
          "shell.execute_reply": "2024-08-12T16:38:01.70955Z"
        },
        "trusted": true,
        "id": "N3F3Qei04mKp"
      },
      "execution_count": null,
      "outputs": []
    },
    {
      "cell_type": "code",
      "source": [
        "# Evaluate the best ensemble on the test set\n",
        "y_pred = best_ensemble.predict(X_test)\n",
        "f1 = f1_score(y_test, y_pred, average='weighted')\n",
        "print(f\"\\nBest Ensemble F1 Score on Test Set: {f1:.4f}\")\n",
        "print(\"\\nClassification Report:\")\n",
        "print(classification_report(y_test, y_pred))"
      ],
      "metadata": {
        "execution": {
          "iopub.status.busy": "2024-08-12T16:38:01.712733Z",
          "iopub.execute_input": "2024-08-12T16:38:01.713175Z",
          "iopub.status.idle": "2024-08-12T16:38:02.744002Z",
          "shell.execute_reply.started": "2024-08-12T16:38:01.713139Z",
          "shell.execute_reply": "2024-08-12T16:38:02.74285Z"
        },
        "trusted": true,
        "id": "f6YTDWAQ4mKp"
      },
      "execution_count": null,
      "outputs": []
    },
    {
      "cell_type": "markdown",
      "source": [
        "<a id=\"12\"></a>\n",
        "## 13. Handling Class Imbalance"
      ],
      "metadata": {
        "id": "Y3Btggqt4mKp"
      }
    },
    {
      "cell_type": "code",
      "source": [
        "# Oversampling techniques\n",
        "oversamplers = {\n",
        "    'SMOTE': SMOTE(random_state=42),\n",
        "    'ADASYN': ADASYN(random_state=42),\n",
        "    'RandomOverSampler': RandomOverSampler(random_state=42)\n",
        "}\n",
        "\n",
        "# Try every oversampling technique\n",
        "for name, oversampler in oversamplers.items():\n",
        "    X_resampled, y_resampled = oversampler.fit_resample(X_train, y_train)\n",
        "\n",
        "    # Calculate scores using the best ensemble model\n",
        "    scores = cross_val_score(best_ensemble, X_resampled, y_resampled, cv=5, scoring='f1')\n",
        "\n",
        "    print(f\"{name} mean F1 score: {scores.mean()}\")\n",
        "\n",
        "# choose best oversampling technique\n",
        "best_oversampler = max(oversamplers.items(), key=lambda x: cross_val_score(best_ensemble, *x[1].fit_resample(X_train, y_train), cv=5, scoring='f1').mean())[1]\n",
        "\n",
        "# Apply best oversampling technique\n",
        "X_resampled, y_resampled = best_oversampler.fit_resample(X_train, y_train)"
      ],
      "metadata": {
        "execution": {
          "iopub.status.busy": "2024-08-12T16:38:02.745462Z",
          "iopub.execute_input": "2024-08-12T16:38:02.745926Z",
          "iopub.status.idle": "2024-08-12T17:26:36.995979Z",
          "shell.execute_reply.started": "2024-08-12T16:38:02.745882Z",
          "shell.execute_reply": "2024-08-12T17:26:36.994214Z"
        },
        "trusted": true,
        "id": "hTXR7iez4mKp"
      },
      "execution_count": null,
      "outputs": []
    },
    {
      "cell_type": "markdown",
      "source": [
        "<a id=\"14\"></a>\n",
        "## 14. Final Model Training and Evaluation"
      ],
      "metadata": {
        "id": "tScqAULi4mKp"
      }
    },
    {
      "cell_type": "code",
      "source": [
        "# Train the final model\n",
        "best_ensemble.fit(X_resampled, y_resampled)\n",
        "\n",
        "# Make predictions on the test set\n",
        "y_pred = best_ensemble.predict(X_test)\n",
        "y_pred_proba = best_ensemble.predict_proba(X_test)[:, 1]\n",
        "\n",
        "print(\"Classification Report:\")\n",
        "print(classification_report(y_test, y_pred))\n",
        "\n",
        "print(\"ROC AUC Score:\", roc_auc_score(y_test, y_pred_proba))\n",
        "print(\"F1 Score:\", f1_score(y_test, y_pred))"
      ],
      "metadata": {
        "execution": {
          "iopub.status.busy": "2024-08-12T17:26:36.997836Z",
          "iopub.execute_input": "2024-08-12T17:26:36.998232Z",
          "iopub.status.idle": "2024-08-12T17:27:15.306992Z",
          "shell.execute_reply.started": "2024-08-12T17:26:36.998198Z",
          "shell.execute_reply": "2024-08-12T17:27:15.305519Z"
        },
        "trusted": true,
        "id": "mxcUBL0h4mKp"
      },
      "execution_count": null,
      "outputs": []
    },
    {
      "cell_type": "markdown",
      "source": [
        "# Evaluation:\n",
        ">  - This study has been a comprehensive and effective exercise in learning and understanding ML techniques for credit card approval predictions.\n",
        ">  - During the scenario creation phase, efforts were made to approach reality in data preparation and feature engineering, which played an important role in evaluating model performance.\n",
        ">  - Testing various models and performing hyperparameter optimization ensured the selection of the most suitable models.\n",
        ">  - The use of ensemble methods and addressing class imbalance further enhanced the overall performance of the model.\n",
        "\n",
        "As a result, the high F1 score and ROC AUC value obtained demonstrate that the model is satisfactorily successful in predicting credit card approvals."
      ],
      "metadata": {
        "id": "UjGsWtoZ4mKp"
      }
    },
    {
      "cell_type": "code",
      "source": [],
      "metadata": {
        "id": "YgsqVLHu4mKp"
      },
      "execution_count": null,
      "outputs": []
    }
  ]
}